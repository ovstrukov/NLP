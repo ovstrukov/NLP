{
  "nbformat": 4,
  "nbformat_minor": 0,
  "metadata": {
    "kernelspec": {
      "display_name": "Python 3",
      "language": "python",
      "name": "python3"
    },
    "language_info": {
      "codemirror_mode": {
        "name": "ipython",
        "version": 3
      },
      "file_extension": ".py",
      "mimetype": "text/x-python",
      "name": "python",
      "nbconvert_exporter": "python",
      "pygments_lexer": "ipython3",
      "version": "3.6.0"
    },
    "colab": {
      "name": "HW2_banki_sent-vocab.ipynb",
      "provenance": [],
      "collapsed_sections": []
    }
  },
  "cells": [
    {
      "cell_type": "code",
      "metadata": {
        "id": "BZnn6esrsS8R"
      },
      "source": [
        "import json\n",
        "\n",
        "import bz2\n",
        "import regex\n",
        "from tqdm import tqdm\n",
        "from scipy import sparse"
      ],
      "execution_count": null,
      "outputs": []
    },
    {
      "cell_type": "code",
      "metadata": {
        "id": "Kc2JLi-JsS8Z"
      },
      "source": [
        "import pandas as pd\n",
        "import numpy as np\n",
        "import nltk\n",
        "import matplotlib.pyplot as plt\n",
        "import seaborn as sns\n",
        "%matplotlib inline\n",
        "%pylab inline"
      ],
      "execution_count": null,
      "outputs": []
    },
    {
      "cell_type": "code",
      "metadata": {
        "scrolled": true,
        "id": "gxAb4LTGsS8b"
      },
      "source": [
        "responses = []\n",
        "with bz2.BZ2File('banki_responses.json.bz2', 'r') as thefile:\n",
        "    for row in tqdm(thefile):\n",
        "        resp = json.loads(row)\n",
        "        if not resp['rating_not_checked'] and (len(resp['text'].split()) > 0):\n",
        "            responses.append(resp)"
      ],
      "execution_count": null,
      "outputs": []
    },
    {
      "cell_type": "code",
      "metadata": {
        "id": "-Coirh6AsS8l"
      },
      "source": [
        "responses[99]"
      ],
      "execution_count": null,
      "outputs": []
    },
    {
      "cell_type": "code",
      "metadata": {
        "id": "48pt6nZusS8u"
      },
      "source": [
        "# пример построения графа \n",
        "\n",
        "import igraph as ig\n",
        "g = ig.Graph(directed=True)\n",
        "for word in model.wv.vocab.keys():\n",
        "    g.add_vertex(word)\n",
        "    \n",
        "    \n",
        "    \n",
        "for word in model.wv.vocab.keys() :\n",
        "    node = g.vs.select(name = word).indices[0]\n",
        "    similar_words = model.most_similar(word, topn=5)\n",
        "    for sim in similar_words:\n",
        "        word1 = sim[0]\n",
        "        val  = sim[1]\n",
        "        new_node = g.vs.select(name = word1).indices[0]\n",
        "        g.add_edge(node, new_node, weight = val)"
      ],
      "execution_count": null,
      "outputs": []
    }
  ]
}