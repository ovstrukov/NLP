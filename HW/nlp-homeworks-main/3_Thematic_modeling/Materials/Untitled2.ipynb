{
 "cells": [
  {
   "cell_type": "code",
   "execution_count": null,
   "id": "regulation-vanilla",
   "metadata": {},
   "outputs": [],
   "source": []
  }
 ],
 "metadata": {
  "kernelspec": {
   "display_name": "gpu2",
   "language": "python",
   "name": "gpu2"
  }
 },
 "nbformat": 4,
 "nbformat_minor": 5
}
