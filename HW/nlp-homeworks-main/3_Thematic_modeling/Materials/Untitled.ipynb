{
 "cells": [
  {
   "cell_type": "code",
   "execution_count": 1,
   "id": "billion-medium",
   "metadata": {},
   "outputs": [],
   "source": [
    "from pymorphy2 import MorphAnalyzer\n",
    "pymorphy2_analyzer = MorphAnalyzer()"
   ]
  },
  {
   "cell_type": "code",
   "execution_count": 2,
   "id": "pursuant-corpus",
   "metadata": {},
   "outputs": [],
   "source": [
    "text = 'Здравствуйте!\\xa0 Подал заявление на получение УЭК в отделении сбербанка 25.05.2015.\\xa0 Переодически, на сайте ueconline.ru мониторил состояние моей карты. Вчера увидел, что статус изменился на\\xa0 Готова к выдаче . Позвонил на горячую линию УОС (8442 301414), сказали звоните в банк (993575). Позвонил, никто не брал трубку.\\xa0 Пошел в банк. Операционистка сообщила, что карты еще нет. Да, она исказала в \"пакете\" мою карту, но не нашла.\\xa0 Может действительно карты там не было, может она сделала вид, что карты нет, не знаю. Срок предполагаемой даты выдачи УЭК еще не подошел.\\xa0 Разберитесь!'"
   ]
  },
  {
   "cell_type": "code",
   "execution_count": 29,
   "id": "rapid-withdrawal",
   "metadata": {},
   "outputs": [],
   "source": [
    "corpus_4 = \" \".join([pymorphy2_analyzer.parse(word)[0].normal_form for word in text.split()])"
   ]
  },
  {
   "cell_type": "code",
   "execution_count": 30,
   "id": "interesting-notion",
   "metadata": {},
   "outputs": [
    {
     "data": {
      "text/plain": [
       "'здравствуйте! подать заявление на получение уэк в отделение сбербанк 25.05.2015. переодически, на сайт ueconline.ru мониторить состояние мой карты. вчера увидел, что статус измениться на готовый к выдача . позвонить на горячий линия уос (8442 301414), сказать звонить в банк (993575). позвонил, никто не брать трубку. пойти в банк. операционистка сообщила, что карта ещё нет. да, она исказать в \"пакете\" мой карту, но не нашла. мочь действительно карта там не было, мочь она сделать вид, что карта нет, не знаю. срок предполагать дата выдача уэк ещё не подошел. разберитесь!'"
      ]
     },
     "execution_count": 30,
     "metadata": {},
     "output_type": "execute_result"
    }
   ],
   "source": [
    "corpus_4"
   ]
  }
 ],
 "metadata": {
  "kernelspec": {
   "display_name": "Python 3",
   "language": "python",
   "name": "python3"
  },
  "language_info": {
   "codemirror_mode": {
    "name": "ipython",
    "version": 3
   },
   "file_extension": ".py",
   "mimetype": "text/x-python",
   "name": "python",
   "nbconvert_exporter": "python",
   "pygments_lexer": "ipython3",
   "version": "3.8.8"
  }
 },
 "nbformat": 4,
 "nbformat_minor": 5
}
