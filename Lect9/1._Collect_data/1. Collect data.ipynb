{
 "cells": [
  {
   "cell_type": "markdown",
   "id": "a3f6a73b-dd01-45f6-b22a-1d39008cc16c",
   "metadata": {},
   "source": [
    "Создайте папку data, а в ней папки page_texts и raw_pages"
   ]
  },
  {
   "cell_type": "code",
   "execution_count": 167,
   "id": "ee03797b-0e7d-4a72-b298-65c0b1929434",
   "metadata": {},
   "outputs": [
    {
     "name": "stdout",
     "output_type": "stream",
     "text": [
      "Requirement already satisfied: beautifulsoup4 in /Users/arthursaprykin/opt/anaconda3/lib/python3.8/site-packages (4.9.3)\n",
      "Requirement already satisfied: soupsieve>1.2 in /Users/arthursaprykin/opt/anaconda3/lib/python3.8/site-packages (from beautifulsoup4) (2.2.1)\n"
     ]
    }
   ],
   "source": [
    "!pip install beautifulsoup4"
   ]
  },
  {
   "cell_type": "code",
   "execution_count": 2,
   "id": "084e0ca3-b272-491a-bd06-4e882ea2e8e7",
   "metadata": {},
   "outputs": [],
   "source": [
    "import requests\n",
    "import re\n",
    "from bs4 import BeautifulSoup"
   ]
  },
  {
   "cell_type": "code",
   "execution_count": 168,
   "id": "2b356d0b-4d32-4952-90b9-8eb31a4a6101",
   "metadata": {},
   "outputs": [],
   "source": [
    "USER_AGENT = 'Mozilla/5.0 (Macintosh; Intel Mac OS X 10_9_3) AppleWebKit/537.36 (KHTML, like Gecko) Chrome/35.0.1916.47 Safari/537.36'\n",
    "\n",
    "def get_page_text(url, user_agent, error_log=True):\n",
    "    headers = {'User-Agent': user_agent}\n",
    "    response = requests.get(url, headers=headers, allow_redirects=True)\n",
    "\n",
    "    if response.status_code == 200:\n",
    "        page_text = response.text\n",
    "        return page_text\n",
    "    elif error_log:\n",
    "        print(f'Ошибка! Response code: {response.status_code}')\n",
    "        print(f'URL: {url}')\n",
    "        print('--------------')\n",
    "    \n",
    "    return None"
   ]
  },
  {
   "cell_type": "code",
   "execution_count": 185,
   "id": "c4c84373-55e6-4ccb-971f-243ebae139b5",
   "metadata": {},
   "outputs": [],
   "source": [
    "index = 1\n",
    "url = f'https://www.kinopoisk.ru/media/?page={index}'\n",
    "\n",
    "page_text = get_page_text(url, USER_AGENT)"
   ]
  },
  {
   "cell_type": "code",
   "execution_count": 170,
   "id": "4c1ebb92-7110-498e-b1d5-fc08715e5650",
   "metadata": {},
   "outputs": [
    {
     "data": {
      "text/plain": [
       "'https://www.kinopoisk.ru/media/?page=1'"
      ]
     },
     "execution_count": 170,
     "metadata": {},
     "output_type": "execute_result"
    }
   ],
   "source": [
    "url"
   ]
  },
  {
   "cell_type": "code",
   "execution_count": 186,
   "id": "e466ca74-d2a8-4e1e-8633-fa7db508b506",
   "metadata": {},
   "outputs": [
    {
     "name": "stdout",
     "output_type": "stream",
     "text": [
      "<!DOCTYPE html>\n",
      "<html lang=\"ru\" class=\"ua_js_no app-theme_light\">\n",
      "    <head>\n",
      "        <title>Медиа на КиноПоиске</title>\n",
      "        <meta charset=\"utf-8\" />\n",
      "        <meta name=\"description\" content=\"Медиа на КиноПоиске. Самая свежая и интересная информация из мира кино: новости, статьи о звездах, интервью, репортажи, обзоры премьер и кассовых сборов.\" />\n",
      "        <meta name=\"keywords\" content=\"\" />\n",
      "        <meta name=\"apple-mobile-web-app-status-bar-style\" content=\"#444444\">\n",
      "        <meta name=\"apple-mobile-web-app-title\" content=\"КиноПоиск\">\n",
      "        <meta name=\"apple-itunes-app\" content=\"app-id=477718890, ct=kp-web, pt=214944, mt=8\">\n",
      "\n",
      "        <meta name=\"viewport\" content=\"width=device-width\" />\n",
      "        <meta property=\"og:title\" content=\"Медиа на КиноПоиске\" />\n",
      "        <meta property=\"og:description\" content=\"Медиа на КиноПоиске. Самая свежая и интересная информация из мира кино: новости, статьи о звездах, интервью, репортажи, обзоры премьер и кассовых сборов.\" />\n",
      "        <meta property=\"o\n"
     ]
    }
   ],
   "source": [
    "print(page_text[:1000])"
   ]
  },
  {
   "cell_type": "code",
   "execution_count": 187,
   "id": "f3eb23e6-0adf-4783-8cde-4072cd5cc897",
   "metadata": {},
   "outputs": [],
   "source": [
    "from os import makedirs\n",
    "\n",
    "soup = BeautifulSoup(page_text)\n",
    "posts_list = soup.find_all('div', {'class': 'posts-grid__main-section-column'})\n",
    "for p in posts_list:\n",
    "    lnk = p.find('a').attrs['href']\n",
    "    title = re.sub('[^А-ЯЁа-яё0-9\\s]', ' ', p.text)\n",
    "    title = re.sub('\\s\\s+', ' ', title)\n",
    "    \n",
    "    page_url = 'https://www.kinopoisk.ru' + lnk\n",
    "    clean_path = '/'.join([d for d in page_url.split('/')[2:] if len(d) > 0])\n",
    "    \n",
    "    page_text = get_page_text(page_url, USER_AGENT)\n",
    "    \n",
    "    if page_text is None:\n",
    "        continue\n",
    "        \n",
    "    dir_path = 'data/raw_pages/' + '/'.join(clean_path.split('/')[:-1])\n",
    "    makedirs(dir_path, exist_ok=True)\n",
    "    with open(dir_path + '/' + clean_path.split('/')[-1] + '.html', 'w', encoding='utf-8') as f:\n",
    "        f.write(page_text)\n",
    "            \n",
    "#     print(page_url, title)"
   ]
  },
  {
   "cell_type": "code",
   "execution_count": 188,
   "id": "2b6b2e2e-89c0-4f50-93f2-a72054405ee0",
   "metadata": {},
   "outputs": [],
   "source": [
    "main_url = f'https://www.kinopoisk.ru/'\n",
    "\n",
    "page_text = get_page_text(main_url, USER_AGENT)\n",
    "soup = BeautifulSoup(page_text)"
   ]
  },
  {
   "cell_type": "code",
   "execution_count": 115,
   "id": "5321b152-b4db-4505-9870-efca403b795a",
   "metadata": {},
   "outputs": [],
   "source": [
    "def clear_link(page_link):\n",
    "    page_link = re.sub('^\\/', '', page_link)\n",
    "    page_link = re.sub('[\\#\\?].+', '', page_link)\n",
    "    \n",
    "    return page_link"
   ]
  },
  {
   "cell_type": "code",
   "execution_count": 194,
   "id": "9035aba6-1973-46dd-997c-738b7c0aca60",
   "metadata": {},
   "outputs": [
    {
     "data": {
      "text/plain": [
       "{'https://www.kinopoisk.ru/afisha/new/',\n",
       " 'https://www.kinopoisk.ru/afisha/new/city/',\n",
       " 'https://www.kinopoisk.ru/afisha/new/film/1045449/',\n",
       " 'https://www.kinopoisk.ru/afisha/new/film/1046057/',\n",
       " 'https://www.kinopoisk.ru/afisha/new/film/1199100/',\n",
       " 'https://www.kinopoisk.ru/afisha/new/film/1219003/',\n",
       " 'https://www.kinopoisk.ru/afisha/new/film/1219149/',\n",
       " 'https://www.kinopoisk.ru/afisha/new/film/1227967/',\n",
       " 'https://www.kinopoisk.ru/afisha/new/film/1243567/',\n",
       " 'https://www.kinopoisk.ru/afisha/new/film/1264209/',\n",
       " 'https://www.kinopoisk.ru/afisha/new/film/1264778/',\n",
       " 'https://www.kinopoisk.ru/afisha/new/film/1320744/',\n",
       " 'https://www.kinopoisk.ru/afisha/new/film/1322857/',\n",
       " 'https://www.kinopoisk.ru/afisha/new/film/1356128/',\n",
       " 'https://www.kinopoisk.ru/afisha/new/film/1378456/',\n",
       " 'https://www.kinopoisk.ru/afisha/new/film/1398967/',\n",
       " 'https://www.kinopoisk.ru/afisha/new/film/1437864/',\n",
       " 'https://www.kinopoisk.ru/afisha/new/film/1449918/',\n",
       " 'https://www.kinopoisk.ru/afisha/new/film/409424/',\n",
       " 'https://www.kinopoisk.ru/afisha/new/film/429069/',\n",
       " 'https://www.kinopoisk.ru/afisha/new/film/4526542/',\n",
       " 'https://www.kinopoisk.ru/afisha/new/film/4551995/',\n",
       " 'https://www.kinopoisk.ru/box/',\n",
       " 'https://www.kinopoisk.ru/box/usa/',\n",
       " 'https://www.kinopoisk.ru/box/world/',\n",
       " 'https://www.kinopoisk.ru/comingsoon/digital/',\n",
       " 'https://www.kinopoisk.ru/docs/usage/',\n",
       " 'https://www.kinopoisk.ru/film/1045449/',\n",
       " 'https://www.kinopoisk.ru/film/1046057/',\n",
       " 'https://www.kinopoisk.ru/film/1199100/',\n",
       " 'https://www.kinopoisk.ru/film/1219003/',\n",
       " 'https://www.kinopoisk.ru/film/1219149/',\n",
       " 'https://www.kinopoisk.ru/film/1227967/',\n",
       " 'https://www.kinopoisk.ru/film/1243567/',\n",
       " 'https://www.kinopoisk.ru/film/1244460/',\n",
       " 'https://www.kinopoisk.ru/film/1264209/',\n",
       " 'https://www.kinopoisk.ru/film/1264778/',\n",
       " 'https://www.kinopoisk.ru/film/1290756/',\n",
       " 'https://www.kinopoisk.ru/film/1309482/',\n",
       " 'https://www.kinopoisk.ru/film/1309570/',\n",
       " 'https://www.kinopoisk.ru/film/1309758/',\n",
       " 'https://www.kinopoisk.ru/film/1320744/',\n",
       " 'https://www.kinopoisk.ru/film/1322389/',\n",
       " 'https://www.kinopoisk.ru/film/1322389/watch/',\n",
       " 'https://www.kinopoisk.ru/film/1322857/',\n",
       " 'https://www.kinopoisk.ru/film/1322912/',\n",
       " 'https://www.kinopoisk.ru/film/1356128/',\n",
       " 'https://www.kinopoisk.ru/film/1378456/',\n",
       " 'https://www.kinopoisk.ru/film/1388416/',\n",
       " 'https://www.kinopoisk.ru/film/1394680/',\n",
       " 'https://www.kinopoisk.ru/film/1398967/',\n",
       " 'https://www.kinopoisk.ru/film/1409828/',\n",
       " 'https://www.kinopoisk.ru/film/1437864/',\n",
       " 'https://www.kinopoisk.ru/film/1449918/',\n",
       " 'https://www.kinopoisk.ru/film/1451342/',\n",
       " 'https://www.kinopoisk.ru/film/409424/',\n",
       " 'https://www.kinopoisk.ru/film/429069/',\n",
       " 'https://www.kinopoisk.ru/film/4367319/',\n",
       " 'https://www.kinopoisk.ru/film/4489270/',\n",
       " 'https://www.kinopoisk.ru/film/4526542/',\n",
       " 'https://www.kinopoisk.ru/film/4536610/',\n",
       " 'https://www.kinopoisk.ru/film/4551995/',\n",
       " 'https://www.kinopoisk.ru/film/462059/',\n",
       " 'https://www.kinopoisk.ru/film/462765/',\n",
       " 'https://www.kinopoisk.ru/film/586418/',\n",
       " 'https://www.kinopoisk.ru/film/807449/',\n",
       " 'https://www.kinopoisk.ru/lists/films/',\n",
       " 'https://www.kinopoisk.ru/lists/films/3',\n",
       " 'https://www.kinopoisk.ru/lists/series-top250/',\n",
       " 'https://www.kinopoisk.ru/lists/top250/',\n",
       " 'https://www.kinopoisk.ru/media',\n",
       " 'https://www.kinopoisk.ru/media/',\n",
       " 'https://www.kinopoisk.ru/media/article/',\n",
       " 'https://www.kinopoisk.ru/media/article//4005150/',\n",
       " 'https://www.kinopoisk.ru/media/article/4001323/',\n",
       " 'https://www.kinopoisk.ru/media/article/4005083/',\n",
       " 'https://www.kinopoisk.ru/media/article/4005128/',\n",
       " 'https://www.kinopoisk.ru/media/article/4005146/',\n",
       " 'https://www.kinopoisk.ru/media/article/4005147/',\n",
       " 'https://www.kinopoisk.ru/media/article/4005154/',\n",
       " 'https://www.kinopoisk.ru/media/article/4005158/',\n",
       " 'https://www.kinopoisk.ru/media/article/4005164/',\n",
       " 'https://www.kinopoisk.ru/media/article/4005171/',\n",
       " 'https://www.kinopoisk.ru/media/article/4005173/',\n",
       " 'https://www.kinopoisk.ru/media/article/4005174/',\n",
       " 'https://www.kinopoisk.ru/media/article/4005181/',\n",
       " 'https://www.kinopoisk.ru/media/news/',\n",
       " 'https://www.kinopoisk.ru/media/news/4005148/',\n",
       " 'https://www.kinopoisk.ru/media/news/4005162/',\n",
       " 'https://www.kinopoisk.ru/media/news/4005169/',\n",
       " 'https://www.kinopoisk.ru/media/news/4005175/',\n",
       " 'https://www.kinopoisk.ru/media/news/4005180/',\n",
       " 'https://www.kinopoisk.ru/media/news/4005182/',\n",
       " 'https://www.kinopoisk.ru/media/podcast/4005170/',\n",
       " 'https://www.kinopoisk.ru/media/podcast/4005176/',\n",
       " 'https://www.kinopoisk.ru/media/rubric/19/',\n",
       " 'https://www.kinopoisk.ru/media/rubric/31',\n",
       " 'https://www.kinopoisk.ru/media/video/',\n",
       " 'https://www.kinopoisk.ru/media/video/4005056/',\n",
       " 'https://www.kinopoisk.ru/media/video/4005069/',\n",
       " 'https://www.kinopoisk.ru/media/video/4005105/',\n",
       " 'https://www.kinopoisk.ru/media/video/4005135/',\n",
       " 'https://www.kinopoisk.ru/media/video/4005161/',\n",
       " 'https://www.kinopoisk.ru/popular/films/',\n",
       " 'https://www.kinopoisk.ru/premiere/',\n",
       " 'https://www.kinopoisk.ru/recommend/',\n",
       " 'https://www.kinopoisk.ru/s/',\n",
       " 'https://www.kinopoisk.ru/special/smarttv_instruction/'}"
      ]
     },
     "execution_count": 194,
     "metadata": {},
     "output_type": "execute_result"
    }
   ],
   "source": [
    "links = set()\n",
    "for a in soup.find_all('a'):\n",
    "    if not a.has_attr('href'):\n",
    "        continue\n",
    "    \n",
    "    page_link = a.attrs['href']\n",
    "    \n",
    "    if re.search('^(http)', page_link):\n",
    "        if main_url not in page_link or main_url == page_link:\n",
    "            continue\n",
    "    \n",
    "    page_link = clear_link(page_link)\n",
    "    \n",
    "    if len(page_link) == 0:\n",
    "        continue \n",
    "    \n",
    "    page_link = main_url + page_link\n",
    "    \n",
    "    links.add(page_link)\n",
    "#     print(page_link)\n",
    "\n",
    "links"
   ]
  },
  {
   "cell_type": "code",
   "execution_count": 130,
   "id": "3db4b782-2836-4325-9b15-d2ef82da087e",
   "metadata": {},
   "outputs": [],
   "source": [
    "def get_page_links(soup, main_url):\n",
    "    links = set()\n",
    "    for a in soup.find_all('a'):\n",
    "        if not a.has_attr('href'):\n",
    "            continue\n",
    "\n",
    "        page_link = a.attrs['href']\n",
    "\n",
    "        if re.search('^(http)', page_link):\n",
    "            if main_url not in page_link or main_url == page_link:\n",
    "                continue\n",
    "\n",
    "        page_link = clear_link(page_link)\n",
    "\n",
    "        if len(page_link) == 0:\n",
    "            continue \n",
    "\n",
    "        page_link = main_url + page_link\n",
    "\n",
    "        links.add(page_link)\n",
    "    \n",
    "    return links"
   ]
  },
  {
   "cell_type": "code",
   "execution_count": 131,
   "id": "a8badbcf-6c6b-4c7b-bee8-bc200f51ed71",
   "metadata": {},
   "outputs": [
    {
     "data": {
      "text/plain": [
       "{'https://www.kinopoisk.ru/afisha/new/',\n",
       " 'https://www.kinopoisk.ru/box/',\n",
       " 'https://www.kinopoisk.ru/box/usa/',\n",
       " 'https://www.kinopoisk.ru/box/world/',\n",
       " 'https://www.kinopoisk.ru/comingsoon/digital/',\n",
       " 'https://www.kinopoisk.ru/docs/usage/',\n",
       " 'https://www.kinopoisk.ru/film/1045449/',\n",
       " 'https://www.kinopoisk.ru/film/1199100/',\n",
       " 'https://www.kinopoisk.ru/film/1219149/',\n",
       " 'https://www.kinopoisk.ru/film/1227967/',\n",
       " 'https://www.kinopoisk.ru/film/1243567/',\n",
       " 'https://www.kinopoisk.ru/film/1244460/',\n",
       " 'https://www.kinopoisk.ru/film/1253400/',\n",
       " 'https://www.kinopoisk.ru/film/1264209/',\n",
       " 'https://www.kinopoisk.ru/film/1301966/',\n",
       " 'https://www.kinopoisk.ru/film/1303057/',\n",
       " 'https://www.kinopoisk.ru/film/1309482/',\n",
       " 'https://www.kinopoisk.ru/film/1309570/',\n",
       " 'https://www.kinopoisk.ru/film/1309758/',\n",
       " 'https://www.kinopoisk.ru/film/1322389/',\n",
       " 'https://www.kinopoisk.ru/film/1322389/watch/',\n",
       " 'https://www.kinopoisk.ru/film/1322857/',\n",
       " 'https://www.kinopoisk.ru/film/1322912/',\n",
       " 'https://www.kinopoisk.ru/film/1356128/',\n",
       " 'https://www.kinopoisk.ru/film/1437864/',\n",
       " 'https://www.kinopoisk.ru/film/409424/',\n",
       " 'https://www.kinopoisk.ru/film/4362629/',\n",
       " 'https://www.kinopoisk.ru/film/4367319/',\n",
       " 'https://www.kinopoisk.ru/film/4517648/',\n",
       " 'https://www.kinopoisk.ru/film/462059/',\n",
       " 'https://www.kinopoisk.ru/film/586418/',\n",
       " 'https://www.kinopoisk.ru/lists/films/',\n",
       " 'https://www.kinopoisk.ru/lists/films/3',\n",
       " 'https://www.kinopoisk.ru/lists/series-top250/',\n",
       " 'https://www.kinopoisk.ru/lists/top250/',\n",
       " 'https://www.kinopoisk.ru/media/',\n",
       " 'https://www.kinopoisk.ru/media/article/',\n",
       " 'https://www.kinopoisk.ru/media/article//4005150/',\n",
       " 'https://www.kinopoisk.ru/media/article/4001323/',\n",
       " 'https://www.kinopoisk.ru/media/article/4005146/',\n",
       " 'https://www.kinopoisk.ru/media/article/4005147/',\n",
       " 'https://www.kinopoisk.ru/media/article/4005150/',\n",
       " 'https://www.kinopoisk.ru/media/article/4005154/',\n",
       " 'https://www.kinopoisk.ru/media/article/4005158/',\n",
       " 'https://www.kinopoisk.ru/media/article/4005171/',\n",
       " 'https://www.kinopoisk.ru/media/article/4005173/',\n",
       " 'https://www.kinopoisk.ru/media/article/4005174/',\n",
       " 'https://www.kinopoisk.ru/media/article/4005181/',\n",
       " 'https://www.kinopoisk.ru/media/news/',\n",
       " 'https://www.kinopoisk.ru/media/news/4005148/',\n",
       " 'https://www.kinopoisk.ru/media/news/4005162/',\n",
       " 'https://www.kinopoisk.ru/media/news/4005169/',\n",
       " 'https://www.kinopoisk.ru/media/news/4005175/',\n",
       " 'https://www.kinopoisk.ru/media/news/4005180/',\n",
       " 'https://www.kinopoisk.ru/media/news/4005182/',\n",
       " 'https://www.kinopoisk.ru/media/podcast/4005170/',\n",
       " 'https://www.kinopoisk.ru/media/podcast/4005176/',\n",
       " 'https://www.kinopoisk.ru/media/rubric/19/',\n",
       " 'https://www.kinopoisk.ru/media/rubric/31',\n",
       " 'https://www.kinopoisk.ru/media/video/',\n",
       " 'https://www.kinopoisk.ru/media/video/4005056/',\n",
       " 'https://www.kinopoisk.ru/media/video/4005069/',\n",
       " 'https://www.kinopoisk.ru/media/video/4005105/',\n",
       " 'https://www.kinopoisk.ru/media/video/4005135/',\n",
       " 'https://www.kinopoisk.ru/media/video/4005161/',\n",
       " 'https://www.kinopoisk.ru/popular/films/',\n",
       " 'https://www.kinopoisk.ru/premiere/',\n",
       " 'https://www.kinopoisk.ru/recommend/',\n",
       " 'https://www.kinopoisk.ru/s/',\n",
       " 'https://www.kinopoisk.ru/series/1159438/',\n",
       " 'https://www.kinopoisk.ru/series/1394680/',\n",
       " 'https://www.kinopoisk.ru/series/1408889/',\n",
       " 'https://www.kinopoisk.ru/series/462765/',\n",
       " 'https://www.kinopoisk.ru/special/smarttv_instruction/'}"
      ]
     },
     "execution_count": 131,
     "metadata": {},
     "output_type": "execute_result"
    }
   ],
   "source": [
    "get_page_links(soup, main_url)"
   ]
  },
  {
   "cell_type": "code",
   "execution_count": 195,
   "id": "1c5efb28-0c40-4b42-9610-9fc2925d586f",
   "metadata": {},
   "outputs": [
    {
     "name": "stdout",
     "output_type": "stream",
     "text": [
      "Ошибка! Response code: 404\n",
      "URL: https://www.kinopoisk.ru/https://www.kinopoisk.ru/media/game/4000802/\n",
      "--------------\n"
     ]
    },
    {
     "ename": "TypeError",
     "evalue": "object of type 'NoneType' has no len()",
     "output_type": "error",
     "traceback": [
      "\u001b[0;31m---------------------------------------------------------------------------\u001b[0m",
      "\u001b[0;31mTypeError\u001b[0m                                 Traceback (most recent call last)",
      "\u001b[0;32m<ipython-input-195-1d297724ada9>\u001b[0m in \u001b[0;36m<module>\u001b[0;34m\u001b[0m\n\u001b[1;32m     14\u001b[0m     \u001b[0;32mfor\u001b[0m \u001b[0mlnk\u001b[0m \u001b[0;32min\u001b[0m \u001b[0mprocess_links\u001b[0m\u001b[0;34m:\u001b[0m\u001b[0;34m\u001b[0m\u001b[0;34m\u001b[0m\u001b[0m\n\u001b[1;32m     15\u001b[0m         \u001b[0mpage_text\u001b[0m \u001b[0;34m=\u001b[0m \u001b[0mget_page_text\u001b[0m\u001b[0;34m(\u001b[0m\u001b[0mlnk\u001b[0m\u001b[0;34m,\u001b[0m \u001b[0mUSER_AGENT\u001b[0m\u001b[0;34m)\u001b[0m\u001b[0;34m\u001b[0m\u001b[0;34m\u001b[0m\u001b[0m\n\u001b[0;32m---> 16\u001b[0;31m         \u001b[0msoup\u001b[0m \u001b[0;34m=\u001b[0m \u001b[0mBeautifulSoup\u001b[0m\u001b[0;34m(\u001b[0m\u001b[0mpage_text\u001b[0m\u001b[0;34m)\u001b[0m\u001b[0;34m\u001b[0m\u001b[0;34m\u001b[0m\u001b[0m\n\u001b[0m\u001b[1;32m     17\u001b[0m         \u001b[0mlinks\u001b[0m \u001b[0;34m=\u001b[0m \u001b[0mget_page_links\u001b[0m\u001b[0;34m(\u001b[0m\u001b[0msoup\u001b[0m\u001b[0;34m,\u001b[0m \u001b[0mmain_url\u001b[0m\u001b[0;34m)\u001b[0m\u001b[0;34m\u001b[0m\u001b[0;34m\u001b[0m\u001b[0m\n\u001b[1;32m     18\u001b[0m         \u001b[0mlinks\u001b[0m \u001b[0;34m=\u001b[0m \u001b[0mlinks\u001b[0m\u001b[0;34m.\u001b[0m\u001b[0mdifference\u001b[0m\u001b[0;34m(\u001b[0m\u001b[0mall_links\u001b[0m\u001b[0;34m,\u001b[0m \u001b[0mnew_links\u001b[0m\u001b[0;34m)\u001b[0m\u001b[0;34m\u001b[0m\u001b[0;34m\u001b[0m\u001b[0m\n",
      "\u001b[0;32m~/opt/anaconda3/lib/python3.8/site-packages/bs4/__init__.py\u001b[0m in \u001b[0;36m__init__\u001b[0;34m(self, markup, features, builder, parse_only, from_encoding, exclude_encodings, element_classes, **kwargs)\u001b[0m\n\u001b[1;32m    308\u001b[0m         \u001b[0;32mif\u001b[0m \u001b[0mhasattr\u001b[0m\u001b[0;34m(\u001b[0m\u001b[0mmarkup\u001b[0m\u001b[0;34m,\u001b[0m \u001b[0;34m'read'\u001b[0m\u001b[0;34m)\u001b[0m\u001b[0;34m:\u001b[0m        \u001b[0;31m# It's a file-type object.\u001b[0m\u001b[0;34m\u001b[0m\u001b[0;34m\u001b[0m\u001b[0m\n\u001b[1;32m    309\u001b[0m             \u001b[0mmarkup\u001b[0m \u001b[0;34m=\u001b[0m \u001b[0mmarkup\u001b[0m\u001b[0;34m.\u001b[0m\u001b[0mread\u001b[0m\u001b[0;34m(\u001b[0m\u001b[0;34m)\u001b[0m\u001b[0;34m\u001b[0m\u001b[0;34m\u001b[0m\u001b[0m\n\u001b[0;32m--> 310\u001b[0;31m         elif len(markup) <= 256 and (\n\u001b[0m\u001b[1;32m    311\u001b[0m                 \u001b[0;34m(\u001b[0m\u001b[0misinstance\u001b[0m\u001b[0;34m(\u001b[0m\u001b[0mmarkup\u001b[0m\u001b[0;34m,\u001b[0m \u001b[0mbytes\u001b[0m\u001b[0;34m)\u001b[0m \u001b[0;32mand\u001b[0m \u001b[0;32mnot\u001b[0m \u001b[0;34mb'<'\u001b[0m \u001b[0;32min\u001b[0m \u001b[0mmarkup\u001b[0m\u001b[0;34m)\u001b[0m\u001b[0;34m\u001b[0m\u001b[0;34m\u001b[0m\u001b[0m\n\u001b[1;32m    312\u001b[0m                 \u001b[0;32mor\u001b[0m \u001b[0;34m(\u001b[0m\u001b[0misinstance\u001b[0m\u001b[0;34m(\u001b[0m\u001b[0mmarkup\u001b[0m\u001b[0;34m,\u001b[0m \u001b[0mstr\u001b[0m\u001b[0;34m)\u001b[0m \u001b[0;32mand\u001b[0m \u001b[0;32mnot\u001b[0m \u001b[0;34m'<'\u001b[0m \u001b[0;32min\u001b[0m \u001b[0mmarkup\u001b[0m\u001b[0;34m)\u001b[0m\u001b[0;34m\u001b[0m\u001b[0;34m\u001b[0m\u001b[0m\n",
      "\u001b[0;31mTypeError\u001b[0m: object of type 'NoneType' has no len()"
     ]
    }
   ],
   "source": [
    "# Сбор всех ссылок с ресурса\n",
    "main_url = f'https://www.kinopoisk.ru/'\n",
    "\n",
    "page_text = get_page_text(main_url, USER_AGENT)\n",
    "soup = BeautifulSoup(page_text)\n",
    "\n",
    "all_links = get_page_links(soup, main_url)\n",
    "process_links = all_links\n",
    "\n",
    "i = 0 # Для мастер-класса\n",
    "while True:\n",
    "    new_links = set()\n",
    "\n",
    "    for lnk in process_links:\n",
    "        page_text = get_page_text(lnk, USER_AGENT)\n",
    "        \n",
    "        if \n",
    "        soup = BeautifulSoup(page_text)\n",
    "        links = get_page_links(soup, main_url)\n",
    "        links = links.difference(all_links, new_links)\n",
    "\n",
    "        new_links = new_links.union(links)\n",
    "\n",
    "    if len(new_links) == 0:\n",
    "        break\n",
    "\n",
    "    all_links = all_links.union(new_links)\n",
    "    process_links = new_links\n",
    "    \n",
    "    # Для мастер-класса\n",
    "    i += 1\n",
    "    if i == 10:\n",
    "        break"
   ]
  },
  {
   "cell_type": "code",
   "execution_count": 197,
   "id": "27fc9595-d338-404a-a431-e3bc2d3b5b6d",
   "metadata": {},
   "outputs": [
    {
     "data": {
      "text/plain": [
       "1976"
      ]
     },
     "execution_count": 197,
     "metadata": {},
     "output_type": "execute_result"
    }
   ],
   "source": [
    "len(all_links)"
   ]
  }
 ],
 "metadata": {
  "kernelspec": {
   "display_name": "Python 3",
   "language": "python",
   "name": "python3"
  },
  "language_info": {
   "codemirror_mode": {
    "name": "ipython",
    "version": 3
   },
   "file_extension": ".py",
   "mimetype": "text/x-python",
   "name": "python",
   "nbconvert_exporter": "python",
   "pygments_lexer": "ipython3",
   "version": "3.8.8"
  }
 },
 "nbformat": 4,
 "nbformat_minor": 5
}
