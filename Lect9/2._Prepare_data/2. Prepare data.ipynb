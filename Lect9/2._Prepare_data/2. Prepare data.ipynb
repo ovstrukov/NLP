{
 "cells": [
  {
   "cell_type": "code",
   "execution_count": 1,
   "id": "c549a894-7b76-4806-ac3c-e8247e18ce4b",
   "metadata": {},
   "outputs": [],
   "source": [
    "from bs4 import BeautifulSoup\n",
    "from os import walk\n",
    "\n",
    "import difflib\n",
    "import re"
   ]
  },
  {
   "cell_type": "code",
   "execution_count": 2,
   "id": "8c079e63-5d8d-43fd-ae50-859d03c68e39",
   "metadata": {},
   "outputs": [],
   "source": [
    "pages_list = []\n",
    "\n",
    "for dirpath, dirnames, filenames in walk('data/raw_pages'):\n",
    "    if '.ipynb_checkpoints' in dirpath:\n",
    "        continue\n",
    "    \n",
    "    dirpath = dirpath.replace('\\\\', '/') # для Windows\n",
    "    for fn in filenames:\n",
    "        if '.DS_Store' in fn:\n",
    "            continue \n",
    "            \n",
    "        fp = f'{dirpath}/{fn}'\n",
    "        pages_list.append(fp)"
   ]
  },
  {
   "cell_type": "code",
   "execution_count": 3,
   "id": "f7de780b-be0d-45ff-95b2-54315731b388",
   "metadata": {},
   "outputs": [
    {
     "data": {
      "text/plain": [
       "['data/raw_pages/www.kinopoisk.ru/media/video/4005161.html',\n",
       " 'data/raw_pages/www.kinopoisk.ru/media/video/4005135.html',\n",
       " 'data/raw_pages/www.kinopoisk.ru/media/news/4005182.html',\n",
       " 'data/raw_pages/www.kinopoisk.ru/media/news/4005141.html',\n",
       " 'data/raw_pages/www.kinopoisk.ru/media/news/4005167.html',\n",
       " 'data/raw_pages/www.kinopoisk.ru/media/news/4005148.html',\n",
       " 'data/raw_pages/www.kinopoisk.ru/media/news/4005152.html',\n",
       " 'data/raw_pages/www.kinopoisk.ru/media/news/4005169.html',\n",
       " 'data/raw_pages/www.kinopoisk.ru/media/news/4005165.html',\n",
       " 'data/raw_pages/www.kinopoisk.ru/media/news/4005162.html']"
      ]
     },
     "execution_count": 3,
     "metadata": {},
     "output_type": "execute_result"
    }
   ],
   "source": [
    "pages_list[:10]"
   ]
  },
  {
   "cell_type": "code",
   "execution_count": 4,
   "id": "c54cc775-24a3-464b-ab21-de2e48dfb849",
   "metadata": {},
   "outputs": [],
   "source": [
    "def remove_script(file):\n",
    "    soup = BeautifulSoup(''.join(file), 'html.parser')\n",
    "    for s in soup.select('script'):\n",
    "        s.extract()\n",
    "        \n",
    "    for f in soup.select('footer'):\n",
    "        f.extract()\n",
    "    \n",
    "    for f in soup.select('header'):\n",
    "        f.extract()\n",
    "        \n",
    "    return str(soup).split('\\n')"
   ]
  },
  {
   "cell_type": "code",
   "execution_count": 5,
   "id": "672f2240-ec2b-4a58-b166-461bd7d17491",
   "metadata": {},
   "outputs": [],
   "source": [
    "fp_1 = 'data/raw_pages/www.kinopoisk.ru/media/video/4005161.html'\n",
    "fp_2 = 'data/raw_pages/www.kinopoisk.ru/media/video/4005135.html'\n",
    "\n",
    "with open(fp_1, 'r') as f:\n",
    "    file1 = remove_script(f.readlines())\n",
    "with open(fp_2, 'r') as f:\n",
    "    file2 = remove_script(f.readlines())"
   ]
  },
  {
   "cell_type": "code",
   "execution_count": 6,
   "id": "0f686e6c-14d0-45c2-a60e-5ec0bb9bb0d5",
   "metadata": {},
   "outputs": [],
   "source": [
    "def clean_diff(diff):\n",
    "    diff = re.sub('\\<[^\\<\\>]+\\>', ' ', diff)\n",
    "    diff = re.sub('&nbsp;', ' ', diff)\n",
    "    diff = re.sub('\\xa0', ' ', diff)\n",
    "    diff = re.sub('\\s\\s+', ' ', diff)\n",
    "    diff = re.sub('^[\\+\\-] ', '', diff)\n",
    "    \n",
    "    return diff"
   ]
  },
  {
   "cell_type": "code",
   "execution_count": 7,
   "id": "e47a35ea-2d52-4fd9-875d-d873cafb0235",
   "metadata": {},
   "outputs": [
    {
     "name": "stdout",
     "output_type": "stream",
     "text": [
      "Как снимает Дени Вильнёв и чем хороша «Дюна» — Видео на КиноПоиске  Видео • Как снимает Дени Вильнёв и чем хороша «Дюна» 18 сентября Обсудить 0 Как Дени Вильнёв экспериментирует с жанрами? Что объединяет всех его героев? Почему сдержанный стиль режиссера подходит для исследования тем насилия, жестокости, хрупкости границы между добром и злом? И какой получилась экранизация «Дюны» ? В этом видеоэссе разбираем основные темы и приемы франкоканадского режиссера Дени Вильнёва и пытаемся понять, как ему удается совмещать голливудский размах и авторскую интонацию. Автор: Василий Покровский, Анастасия Усанова Обсудить Пережив встречу с андроидом, полицейские переезжают в Москву. Продолжение народной сай-фай комедии В главных ролях: Зоя Бербер, Антон Филипенко, Сергей Гармаш, Кузьма Сапрыкин, Федор Лавров Режиссер: Максим Пежемский, Александр Карпиловский Смотрите по подписке Смотреть Буду смотреть Смотрите также Фильм недели: черви и звезды в «Дюне» — главном блокбастере года 3 сентября 102 Где в «Дюне» отсылки к советской архитектуре? А зачем фременам насос в ботинках? Рассказывает команда фильма 20 августа 19 Атрейдесы, Харконнены и фремены: Кто есть кто в «Дюне» Дени Вильнёва 10 сентября 2020 33 Шум и яркость Подкаст Звуки «Прибытия» и «Убийцы»: Как Вильнёв и Йоханнссон экспериментируют с музыкой 29 июня 2020 3 Главное сегодня Сериалы Зима близко: почему «Выжившие» — это мы Вчера 6 Расселл Т. Дэвис возвращается в «Доктора Кто». Почему это важно? Вчера 11 Сериал «Игра в кальмара» возглавил топ Netflix. Чем южнокорейское шоу о выживании понравилось всему миру? Вчера 1 6 главных аниме-режиссеров XXI века Вчера 10 В предыдущих сериях Подкаст «Кликбейт»: драма про обман в интернете и тотальное одиночество Вчера 1 Главный герой «В лозунги я не очень верю»: Алексей Герман-младший о фильме про домашний арест «Дело» и о молодежи 28 сентября 7 Главный герой «Я привык быть лучшим, полусредним быть не подходит»: Роман Васьянов — о переходе в режиссуру и буме русского кино 28 сентября 12 Комментарии Чтобы оставить комментарий, войдите на сайт \n"
     ]
    }
   ],
   "source": [
    "page_lines = []\n",
    "for diff in difflib.ndiff(file1, file2):\n",
    "    if re.search('^\\+ ', diff) is None:\n",
    "        continue\n",
    "        \n",
    "    diff = clean_diff(diff)\n",
    "    \n",
    "    if len(diff) == 0:\n",
    "        continue\n",
    "    \n",
    "    page_lines.append(diff)\n",
    "#     print(diff)\n",
    "\n",
    "page_text = ' '.join(page_lines)\n",
    "\n",
    "print(page_text)"
   ]
  },
  {
   "cell_type": "code",
   "execution_count": 8,
   "id": "e92afe3b-e0be-43dd-822c-3076ca40fdb1",
   "metadata": {},
   "outputs": [],
   "source": [
    "def extract_page_text(file, origin_file):\n",
    "    \n",
    "    page_lines = []\n",
    "    for diff in difflib.ndiff(origin_file, file):\n",
    "        if re.search('^\\+ ', diff) is None:\n",
    "            continue\n",
    "\n",
    "        diff = clean_diff(diff)\n",
    "\n",
    "        if len(diff) == 0:\n",
    "            continue\n",
    "\n",
    "        page_lines.append(diff)\n",
    "\n",
    "    page_text = '. '.join(page_lines)\n",
    "    \n",
    "    return page_text"
   ]
  },
  {
   "cell_type": "code",
   "execution_count": 10,
   "id": "c5f9ef54-4e5e-45b3-868a-8d0afeb9b2f2",
   "metadata": {},
   "outputs": [],
   "source": [
    "# Извлекаем тексты, и сохраняем в файлы\n",
    "\n",
    "page_texts_path = 'data/page_texts/'\n",
    "create_fp = lambda fp: fp.replace('/', '+').replace('\\\\', '+') + '.txt'\n",
    "\n",
    "\n",
    "with open(pages_list[0], 'r', encoding=\"utf-8\") as f:\n",
    "    origin_file = remove_script(f.readlines())\n",
    "\n",
    "with open(pages_list[1], 'r', encoding=\"utf-8\") as f:\n",
    "    file = remove_script(f.readlines())\n",
    "\n",
    "page_text = extract_page_text(origin_file, file)\n",
    "\n",
    "with open(page_texts_path + create_fp(pages_list[0]), 'w', encoding=\"utf-8\") as f:\n",
    "    f.write(page_text)\n",
    "\n",
    "for fp in pages_list[1:]:\n",
    "    with open(fp, 'r', encoding=\"utf-8\") as f:\n",
    "        file = remove_script(f.readlines())\n",
    "    \n",
    "    page_text = extract_page_text(file, origin_file)\n",
    "    with open(page_texts_path + create_fp(fp), 'w', encoding=\"utf-8\") as f:\n",
    "        f.write(page_text)"
   ]
  },
  {
   "cell_type": "code",
   "execution_count": 13,
   "id": "6bf222aa-5777-449c-a077-fa774b15f545",
   "metadata": {},
   "outputs": [],
   "source": [
    "pages_texts = {}\n",
    "\n",
    "for dirpath, dirnames, filenames in walk(page_texts_path):\n",
    "    if '.ipynb_checkpoints' in dirpath:\n",
    "        continue\n",
    "        \n",
    "    for fn in filenames:\n",
    "        if '.DS_Store' in fn:\n",
    "            continue\n",
    "            \n",
    "        fp = f'{dirpath}/{fn}'\n",
    "        with open(fp, 'r', encoding=\"utf-8\") as f:\n",
    "            pt = ' '.join(f.readlines())\n",
    "        \n",
    "        original_link = fp.split('/')[-1].replace('|', '/').replace('.txt', '')\n",
    "        pages_texts[original_link] = pt"
   ]
  },
  {
   "cell_type": "code",
   "execution_count": 96,
   "id": "c818c10d-23cf-4875-b5e2-2609e486b8fc",
   "metadata": {},
   "outputs": [
    {
     "name": "stdout",
     "output_type": "stream",
     "text": [
      "Collecting pymorphy2\n",
      "  Downloading pymorphy2-0.9.1-py3-none-any.whl (55 kB)\n",
      "\u001b[K     |████████████████████████████████| 55 kB 1.3 MB/s eta 0:00:01\n",
      "\u001b[?25hRequirement already satisfied: docopt>=0.6 in /Users/arthursaprykin/opt/anaconda3/lib/python3.8/site-packages (from pymorphy2) (0.6.2)\n",
      "Collecting pymorphy2-dicts-ru<3.0,>=2.4\n",
      "  Downloading pymorphy2_dicts_ru-2.4.417127.4579844-py2.py3-none-any.whl (8.2 MB)\n",
      "\u001b[K     |████████████████████████████████| 8.2 MB 2.4 MB/s eta 0:00:01\n",
      "\u001b[?25hCollecting dawg-python>=0.7.1\n",
      "  Downloading DAWG_Python-0.7.2-py2.py3-none-any.whl (11 kB)\n",
      "Installing collected packages: pymorphy2-dicts-ru, dawg-python, pymorphy2\n",
      "Successfully installed dawg-python-0.7.2 pymorphy2-0.9.1 pymorphy2-dicts-ru-2.4.417127.4579844\n",
      "Collecting pymorphy2-dicts\n",
      "  Downloading pymorphy2_dicts-2.4.393442.3710985-py2.py3-none-any.whl (7.1 MB)\n",
      "\u001b[K     |████████████████████████████████| 7.1 MB 1.9 MB/s eta 0:00:01\n",
      "\u001b[?25hInstalling collected packages: pymorphy2-dicts\n",
      "Successfully installed pymorphy2-dicts-2.4.393442.3710985\n",
      "Collecting DAWG\n",
      "  Downloading DAWG-0.8.0-cp38-cp38-macosx_10_14_x86_64.whl (176 kB)\n",
      "\u001b[K     |████████████████████████████████| 176 kB 1.6 MB/s eta 0:00:01\n",
      "\u001b[?25hInstalling collected packages: DAWG\n",
      "Successfully installed DAWG-0.8.0\n"
     ]
    }
   ],
   "source": [
    "!pip install pymorphy2\n",
    "!pip install pymorphy2-dicts\n",
    "\n",
    "# ставим либо DAWG-Python, либо DAWG (он быстрее)\n",
    "!pip install DAWG-Python\n",
    "\n",
    "# Если есть Cython и компилятор в системе\n",
    "# !pip install DAWG"
   ]
  },
  {
   "cell_type": "code",
   "execution_count": 21,
   "id": "cd2e12fe-183c-455d-bb8d-17e044a7130f",
   "metadata": {},
   "outputs": [
    {
     "name": "stdout",
     "output_type": "stream",
     "text": [
      "!\"#$%&'()*+,-./:;<=>?@[\\]^_`{|}~\n"
     ]
    }
   ],
   "source": [
    "import nltk\n",
    "import pymorphy2\n",
    "from string import punctuation\n",
    "\n",
    "print(punctuation)\n",
    "\n",
    "MORPH = pymorphy2.MorphAnalyzer()\n",
    "\n",
    "def preprocess_text(text):\n",
    "    text = text.lower()\n",
    "    text = re.sub('\\s\\s+', ' ', text)\n",
    "    \n",
    "    return text\n",
    "\n",
    "def extract_sentences(text):\n",
    "    text = preprocess_text(text)\n",
    "\n",
    "    sentences = []\n",
    "    for s in nltk.sent_tokenize(text):\n",
    "        wrds = []\n",
    "        for wrd in nltk.word_tokenize(s):\n",
    "            if wrd in punctuation:\n",
    "                continue\n",
    "            \n",
    "            wrd = MORPH.parse(wrd)[0].normal_form\n",
    "            wrds.append(wrd)\n",
    "            \n",
    "        clear_sentence = ' '.join(wrds)\n",
    "        \n",
    "        sentences.append(clear_sentence)\n",
    "    \n",
    "    return sentences"
   ]
  },
  {
   "cell_type": "code",
   "execution_count": 25,
   "id": "4f48380d-2663-4682-b118-bc6dea900f4c",
   "metadata": {},
   "outputs": [
    {
     "data": {
      "text/plain": [
       "Parse(word='мамой', tag=OpencorporaTag('NOUN,anim,femn sing,ablt'), normal_form='мама', score=1.0, methods_stack=((DictionaryAnalyzer(), 'мамой', 1988, 4),))"
      ]
     },
     "execution_count": 25,
     "metadata": {},
     "output_type": "execute_result"
    }
   ],
   "source": [
    "MORPH.parse('мамой')[0]"
   ]
  },
  {
   "cell_type": "code",
   "execution_count": 26,
   "id": "0d9186a5-6019-4c24-b555-e549af89a15d",
   "metadata": {},
   "outputs": [
    {
     "data": {
      "text/plain": [
       "['я люблю тебя до слёз.', 'будь счастлива!']"
      ]
     },
     "execution_count": 26,
     "metadata": {},
     "output_type": "execute_result"
    }
   ],
   "source": [
    "nltk.sent_tokenize('я люблю тебя до слёз. будь счастлива!')"
   ]
  },
  {
   "cell_type": "code",
   "execution_count": 23,
   "id": "a61c88c8-c1a8-4fa7-a340-57494c9cd975",
   "metadata": {},
   "outputs": [
    {
     "data": {
      "text/plain": [
       "['мама',\n",
       " ',',\n",
       " 'мыла',\n",
       " 'раму',\n",
       " 'папу-макаку',\n",
       " 'за',\n",
       " '170,00',\n",
       " 'рублей',\n",
       " '170рублей']"
      ]
     },
     "execution_count": 23,
     "metadata": {},
     "output_type": "execute_result"
    }
   ],
   "source": [
    "nltk.word_tokenize('мама, мыла раму папу-макаку за 170,00 рублей 170рублей')"
   ]
  },
  {
   "cell_type": "code",
   "execution_count": 29,
   "id": "5bb5bfcb-a27b-4aaf-be2d-f5426c8073cf",
   "metadata": {},
   "outputs": [],
   "source": [
    "import pandas as pd\n",
    "import numpy as np"
   ]
  },
  {
   "cell_type": "code",
   "execution_count": 27,
   "id": "48cf0f82-fb30-4743-909d-f4a73c8ec414",
   "metadata": {},
   "outputs": [
    {
     "data": {
      "text/plain": [
       "44"
      ]
     },
     "execution_count": 27,
     "metadata": {},
     "output_type": "execute_result"
    }
   ],
   "source": [
    "len(pages_texts)"
   ]
  },
  {
   "cell_type": "code",
   "execution_count": 37,
   "id": "d88f29a0-1c21-416c-94c2-6b3ca07c4e7b",
   "metadata": {},
   "outputs": [
    {
     "name": "stderr",
     "output_type": "stream",
     "text": [
      "[nltk_data] Downloading package punkt to\n",
      "[nltk_data]     /Users/arthursaprykin/nltk_data...\n",
      "[nltk_data]   Package punkt is already up-to-date!\n"
     ]
    },
    {
     "data": {
      "text/plain": [
       "True"
      ]
     },
     "execution_count": 37,
     "metadata": {},
     "output_type": "execute_result"
    }
   ],
   "source": [
    "nltk.download('punkt')"
   ]
  },
  {
   "cell_type": "code",
   "execution_count": 30,
   "id": "6e10dc38-1622-40a5-bd8c-e67d66ae462e",
   "metadata": {},
   "outputs": [],
   "source": [
    "full_link_df = pd.DataFrame(columns=['link', 'sentence_order', 'sentence_text'])\n",
    "\n",
    "for link, text in pages_texts.items():\n",
    "    sentences = extract_sentences(text)\n",
    "    sentence_count = len(sentences)\n",
    "    \n",
    "    link_df = pd.DataFrame({'link': np.repeat(link, sentence_count),\n",
    "                            'sentence_order': np.arange(sentence_count),\n",
    "                            'sentence_text': sentences})\n",
    "    \n",
    "    full_link_df = full_link_df.append(link_df)"
   ]
  },
  {
   "cell_type": "code",
   "execution_count": 41,
   "id": "3b759866-1bdb-4659-8e07-0f003f85064d",
   "metadata": {},
   "outputs": [
    {
     "data": {
      "text/html": [
       "<div>\n",
       "<style scoped>\n",
       "    .dataframe tbody tr th:only-of-type {\n",
       "        vertical-align: middle;\n",
       "    }\n",
       "\n",
       "    .dataframe tbody tr th {\n",
       "        vertical-align: top;\n",
       "    }\n",
       "\n",
       "    .dataframe thead th {\n",
       "        text-align: right;\n",
       "    }\n",
       "</style>\n",
       "<table border=\"1\" class=\"dataframe\">\n",
       "  <thead>\n",
       "    <tr style=\"text-align: right;\">\n",
       "      <th></th>\n",
       "      <th>link</th>\n",
       "      <th>sentence_order</th>\n",
       "      <th>sentence_text</th>\n",
       "    </tr>\n",
       "  </thead>\n",
       "  <tbody>\n",
       "    <tr>\n",
       "      <th>0</th>\n",
       "      <td>data/raw_pages/www.kinopoisk.ru/media/article/...</td>\n",
       "      <td>0</td>\n",
       "      <td>6 главный аниме-режиссёр xxi век — статья на к...</td>\n",
       "    </tr>\n",
       "    <tr>\n",
       "      <th>1</th>\n",
       "      <td>data/raw_pages/www.kinopoisk.ru/media/article/...</td>\n",
       "      <td>1</td>\n",
       "      <td>6 главный аниме-режиссёр xxi век вчера обсудит...</td>\n",
       "    </tr>\n",
       "    <tr>\n",
       "      <th>2</th>\n",
       "      <td>data/raw_pages/www.kinopoisk.ru/media/article/...</td>\n",
       "      <td>2</td>\n",
       "      <td>масаак юас сатося кон исао такахат мамор хосод...</td>\n",
       "    </tr>\n",
       "    <tr>\n",
       "      <th>3</th>\n",
       "      <td>data/raw_pages/www.kinopoisk.ru/media/article/...</td>\n",
       "      <td>3</td>\n",
       "      <td>буйный визуальность он работа быть слишком рад...</td>\n",
       "    </tr>\n",
       "    <tr>\n",
       "      <th>4</th>\n",
       "      <td>data/raw_pages/www.kinopoisk.ru/media/article/...</td>\n",
       "      <td>4</td>\n",
       "      <td>зато « игра разум » заметить масао маруям соуч...</td>\n",
       "    </tr>\n",
       "    <tr>\n",
       "      <th>...</th>\n",
       "      <td>...</td>\n",
       "      <td>...</td>\n",
       "      <td>...</td>\n",
       "    </tr>\n",
       "    <tr>\n",
       "      <th>37</th>\n",
       "      <td>data/raw_pages/www.kinopoisk.ru/media/news/400...</td>\n",
       "      <td>37</td>\n",
       "      <td>21 сентябрь 247 интервью дени вильнёв « тимоти...</td>\n",
       "    </tr>\n",
       "    <tr>\n",
       "      <th>38</th>\n",
       "      <td>data/raw_pages/www.kinopoisk.ru/media/news/400...</td>\n",
       "      <td>38</td>\n",
       "      <td>почему это важно</td>\n",
       "    </tr>\n",
       "    <tr>\n",
       "      <th>39</th>\n",
       "      <td>data/raw_pages/www.kinopoisk.ru/media/news/400...</td>\n",
       "      <td>39</td>\n",
       "      <td>вчера 11 сериал « игра в кальмар » возглавить ...</td>\n",
       "    </tr>\n",
       "    <tr>\n",
       "      <th>40</th>\n",
       "      <td>data/raw_pages/www.kinopoisk.ru/media/news/400...</td>\n",
       "      <td>40</td>\n",
       "      <td>чем южнокорейский шоу о выживание понравиться ...</td>\n",
       "    </tr>\n",
       "    <tr>\n",
       "      <th>41</th>\n",
       "      <td>data/raw_pages/www.kinopoisk.ru/media/news/400...</td>\n",
       "      <td>41</td>\n",
       "      <td>вчера 1 6 главный аниме-режиссёр xxi век вчера...</td>\n",
       "    </tr>\n",
       "  </tbody>\n",
       "</table>\n",
       "<p>2908 rows × 3 columns</p>\n",
       "</div>"
      ],
      "text/plain": [
       "                                                 link sentence_order  \\\n",
       "0   data/raw_pages/www.kinopoisk.ru/media/article/...              0   \n",
       "1   data/raw_pages/www.kinopoisk.ru/media/article/...              1   \n",
       "2   data/raw_pages/www.kinopoisk.ru/media/article/...              2   \n",
       "3   data/raw_pages/www.kinopoisk.ru/media/article/...              3   \n",
       "4   data/raw_pages/www.kinopoisk.ru/media/article/...              4   \n",
       "..                                                ...            ...   \n",
       "37  data/raw_pages/www.kinopoisk.ru/media/news/400...             37   \n",
       "38  data/raw_pages/www.kinopoisk.ru/media/news/400...             38   \n",
       "39  data/raw_pages/www.kinopoisk.ru/media/news/400...             39   \n",
       "40  data/raw_pages/www.kinopoisk.ru/media/news/400...             40   \n",
       "41  data/raw_pages/www.kinopoisk.ru/media/news/400...             41   \n",
       "\n",
       "                                        sentence_text  \n",
       "0   6 главный аниме-режиссёр xxi век — статья на к...  \n",
       "1   6 главный аниме-режиссёр xxi век вчера обсудит...  \n",
       "2   масаак юас сатося кон исао такахат мамор хосод...  \n",
       "3   буйный визуальность он работа быть слишком рад...  \n",
       "4   зато « игра разум » заметить масао маруям соуч...  \n",
       "..                                                ...  \n",
       "37  21 сентябрь 247 интервью дени вильнёв « тимоти...  \n",
       "38                                   почему это важно  \n",
       "39  вчера 11 сериал « игра в кальмар » возглавить ...  \n",
       "40  чем южнокорейский шоу о выживание понравиться ...  \n",
       "41  вчера 1 6 главный аниме-режиссёр xxi век вчера...  \n",
       "\n",
       "[2908 rows x 3 columns]"
      ]
     },
     "execution_count": 41,
     "metadata": {},
     "output_type": "execute_result"
    }
   ],
   "source": [
    "full_link_df"
   ]
  },
  {
   "cell_type": "code",
   "execution_count": 35,
   "id": "c81a2069-90e8-4eae-9327-55b61d2521f2",
   "metadata": {},
   "outputs": [],
   "source": [
    "full_link_df.to_csv('data/link_page_sentences.csv', index=False)"
   ]
  },
  {
   "cell_type": "code",
   "execution_count": 38,
   "id": "126b3625-af1b-489f-94c0-fc54453902a1",
   "metadata": {},
   "outputs": [
    {
     "data": {
      "text/html": [
       "<div>\n",
       "<style scoped>\n",
       "    .dataframe tbody tr th:only-of-type {\n",
       "        vertical-align: middle;\n",
       "    }\n",
       "\n",
       "    .dataframe tbody tr th {\n",
       "        vertical-align: top;\n",
       "    }\n",
       "\n",
       "    .dataframe thead th {\n",
       "        text-align: right;\n",
       "    }\n",
       "</style>\n",
       "<table border=\"1\" class=\"dataframe\">\n",
       "  <thead>\n",
       "    <tr style=\"text-align: right;\">\n",
       "      <th></th>\n",
       "      <th>link</th>\n",
       "      <th>sentence_order</th>\n",
       "      <th>sentence_text</th>\n",
       "    </tr>\n",
       "  </thead>\n",
       "  <tbody>\n",
       "    <tr>\n",
       "      <th>0</th>\n",
       "      <td>data/raw_pages/www.kinopoisk.ru/media/article/...</td>\n",
       "      <td>0</td>\n",
       "      <td>6 главный аниме-режиссёр xxi век — статья на к...</td>\n",
       "    </tr>\n",
       "    <tr>\n",
       "      <th>1</th>\n",
       "      <td>data/raw_pages/www.kinopoisk.ru/media/article/...</td>\n",
       "      <td>1</td>\n",
       "      <td>6 главный аниме-режиссёр xxi век вчера обсудит...</td>\n",
       "    </tr>\n",
       "    <tr>\n",
       "      <th>2</th>\n",
       "      <td>data/raw_pages/www.kinopoisk.ru/media/article/...</td>\n",
       "      <td>2</td>\n",
       "      <td>масаак юас сатося кон исао такахат мамор хосод...</td>\n",
       "    </tr>\n",
       "    <tr>\n",
       "      <th>3</th>\n",
       "      <td>data/raw_pages/www.kinopoisk.ru/media/article/...</td>\n",
       "      <td>3</td>\n",
       "      <td>буйный визуальность он работа быть слишком рад...</td>\n",
       "    </tr>\n",
       "    <tr>\n",
       "      <th>4</th>\n",
       "      <td>data/raw_pages/www.kinopoisk.ru/media/article/...</td>\n",
       "      <td>4</td>\n",
       "      <td>зато « игра разум » заметить масао маруям соуч...</td>\n",
       "    </tr>\n",
       "  </tbody>\n",
       "</table>\n",
       "</div>"
      ],
      "text/plain": [
       "                                                link  sentence_order  \\\n",
       "0  data/raw_pages/www.kinopoisk.ru/media/article/...               0   \n",
       "1  data/raw_pages/www.kinopoisk.ru/media/article/...               1   \n",
       "2  data/raw_pages/www.kinopoisk.ru/media/article/...               2   \n",
       "3  data/raw_pages/www.kinopoisk.ru/media/article/...               3   \n",
       "4  data/raw_pages/www.kinopoisk.ru/media/article/...               4   \n",
       "\n",
       "                                       sentence_text  \n",
       "0  6 главный аниме-режиссёр xxi век — статья на к...  \n",
       "1  6 главный аниме-режиссёр xxi век вчера обсудит...  \n",
       "2  масаак юас сатося кон исао такахат мамор хосод...  \n",
       "3  буйный визуальность он работа быть слишком рад...  \n",
       "4  зато « игра разум » заметить масао маруям соуч...  "
      ]
     },
     "execution_count": 38,
     "metadata": {},
     "output_type": "execute_result"
    }
   ],
   "source": [
    "pd.read_csv('data/link_page_sentences.csv').head(5)"
   ]
  },
  {
   "cell_type": "code",
   "execution_count": 42,
   "id": "3fb07928-ad11-4867-a411-899e1e108209",
   "metadata": {},
   "outputs": [
    {
     "name": "stdout",
     "output_type": "stream",
     "text": [
      "Requirement already satisfied: pyarrow in /Users/arthursaprykin/opt/anaconda3/lib/python3.8/site-packages (5.0.0)\n",
      "Requirement already satisfied: numpy>=1.16.6 in /Users/arthursaprykin/opt/anaconda3/lib/python3.8/site-packages (from pyarrow) (1.19.5)\n"
     ]
    }
   ],
   "source": [
    "!pip install pyarrow"
   ]
  },
  {
   "cell_type": "code",
   "execution_count": 43,
   "id": "22878d55-f667-4320-a4ca-3fca41c6227a",
   "metadata": {},
   "outputs": [],
   "source": [
    "full_link_df.reset_index().to_feather('data/link_page_sentences.ftr')"
   ]
  },
  {
   "cell_type": "code",
   "execution_count": 33,
   "id": "f0aecad4-414f-458a-a695-dd0c0e0b96f5",
   "metadata": {},
   "outputs": [
    {
     "data": {
      "text/html": [
       "<div>\n",
       "<style scoped>\n",
       "    .dataframe tbody tr th:only-of-type {\n",
       "        vertical-align: middle;\n",
       "    }\n",
       "\n",
       "    .dataframe tbody tr th {\n",
       "        vertical-align: top;\n",
       "    }\n",
       "\n",
       "    .dataframe thead th {\n",
       "        text-align: right;\n",
       "    }\n",
       "</style>\n",
       "<table border=\"1\" class=\"dataframe\">\n",
       "  <thead>\n",
       "    <tr style=\"text-align: right;\">\n",
       "      <th></th>\n",
       "      <th>index</th>\n",
       "      <th>link</th>\n",
       "      <th>sentence_order</th>\n",
       "      <th>sentence_text</th>\n",
       "    </tr>\n",
       "  </thead>\n",
       "  <tbody>\n",
       "    <tr>\n",
       "      <th>0</th>\n",
       "      <td>0</td>\n",
       "      <td>data/raw_pages/www.kinopoisk.ru/media/article/...</td>\n",
       "      <td>0</td>\n",
       "      <td>6 главный аниме-режиссёр xxi век — статья на к...</td>\n",
       "    </tr>\n",
       "    <tr>\n",
       "      <th>1</th>\n",
       "      <td>1</td>\n",
       "      <td>data/raw_pages/www.kinopoisk.ru/media/article/...</td>\n",
       "      <td>1</td>\n",
       "      <td>6 главный аниме-режиссёр xxi век вчера обсудит...</td>\n",
       "    </tr>\n",
       "    <tr>\n",
       "      <th>2</th>\n",
       "      <td>2</td>\n",
       "      <td>data/raw_pages/www.kinopoisk.ru/media/article/...</td>\n",
       "      <td>2</td>\n",
       "      <td>масаак юас сатося кон исао такахат мамор хосод...</td>\n",
       "    </tr>\n",
       "    <tr>\n",
       "      <th>3</th>\n",
       "      <td>3</td>\n",
       "      <td>data/raw_pages/www.kinopoisk.ru/media/article/...</td>\n",
       "      <td>3</td>\n",
       "      <td>буйный визуальность он работа быть слишком рад...</td>\n",
       "    </tr>\n",
       "    <tr>\n",
       "      <th>4</th>\n",
       "      <td>4</td>\n",
       "      <td>data/raw_pages/www.kinopoisk.ru/media/article/...</td>\n",
       "      <td>4</td>\n",
       "      <td>зато « игра разум » заметить масао маруям соуч...</td>\n",
       "    </tr>\n",
       "  </tbody>\n",
       "</table>\n",
       "</div>"
      ],
      "text/plain": [
       "   index                                               link  sentence_order  \\\n",
       "0      0  data/raw_pages/www.kinopoisk.ru/media/article/...               0   \n",
       "1      1  data/raw_pages/www.kinopoisk.ru/media/article/...               1   \n",
       "2      2  data/raw_pages/www.kinopoisk.ru/media/article/...               2   \n",
       "3      3  data/raw_pages/www.kinopoisk.ru/media/article/...               3   \n",
       "4      4  data/raw_pages/www.kinopoisk.ru/media/article/...               4   \n",
       "\n",
       "                                       sentence_text  \n",
       "0  6 главный аниме-режиссёр xxi век — статья на к...  \n",
       "1  6 главный аниме-режиссёр xxi век вчера обсудит...  \n",
       "2  масаак юас сатося кон исао такахат мамор хосод...  \n",
       "3  буйный визуальность он работа быть слишком рад...  \n",
       "4  зато « игра разум » заметить масао маруям соуч...  "
      ]
     },
     "execution_count": 33,
     "metadata": {},
     "output_type": "execute_result"
    }
   ],
   "source": [
    "pd.read_feather('data/link_page_sentences.ftr').head(5)"
   ]
  },
  {
   "cell_type": "code",
   "execution_count": 32,
   "id": "87d379de-8909-4d16-8a39-112dfa0733fa",
   "metadata": {},
   "outputs": [],
   "source": [
    "full_link_df.to_parquet('data/link_page_sentences.parquet')"
   ]
  },
  {
   "cell_type": "code",
   "execution_count": 135,
   "id": "8d524992-459f-4169-b33e-4899c1f23ef1",
   "metadata": {},
   "outputs": [
    {
     "data": {
      "text/html": [
       "<div>\n",
       "<style scoped>\n",
       "    .dataframe tbody tr th:only-of-type {\n",
       "        vertical-align: middle;\n",
       "    }\n",
       "\n",
       "    .dataframe tbody tr th {\n",
       "        vertical-align: top;\n",
       "    }\n",
       "\n",
       "    .dataframe thead th {\n",
       "        text-align: right;\n",
       "    }\n",
       "</style>\n",
       "<table border=\"1\" class=\"dataframe\">\n",
       "  <thead>\n",
       "    <tr style=\"text-align: right;\">\n",
       "      <th></th>\n",
       "      <th>link</th>\n",
       "      <th>sentence_order</th>\n",
       "      <th>sentence_text</th>\n",
       "    </tr>\n",
       "  </thead>\n",
       "  <tbody>\n",
       "    <tr>\n",
       "      <th>0</th>\n",
       "      <td>data/raw_pages/www.kinopoisk.ru/media/article/...</td>\n",
       "      <td>0</td>\n",
       "      <td>6 главный аниме-режиссёр xxi век — статья на к...</td>\n",
       "    </tr>\n",
       "    <tr>\n",
       "      <th>1</th>\n",
       "      <td>data/raw_pages/www.kinopoisk.ru/media/article/...</td>\n",
       "      <td>1</td>\n",
       "      <td>6 главный аниме-режиссёр xxi век сегодня обсуд...</td>\n",
       "    </tr>\n",
       "    <tr>\n",
       "      <th>2</th>\n",
       "      <td>data/raw_pages/www.kinopoisk.ru/media/article/...</td>\n",
       "      <td>2</td>\n",
       "      <td>масаак юас сатося кон исао такахат мамор хосод...</td>\n",
       "    </tr>\n",
       "    <tr>\n",
       "      <th>3</th>\n",
       "      <td>data/raw_pages/www.kinopoisk.ru/media/article/...</td>\n",
       "      <td>3</td>\n",
       "      <td>буйный визуальность он работа быть слишком рад...</td>\n",
       "    </tr>\n",
       "    <tr>\n",
       "      <th>4</th>\n",
       "      <td>data/raw_pages/www.kinopoisk.ru/media/article/...</td>\n",
       "      <td>4</td>\n",
       "      <td>зато « игра разум » заметить масао маруям соуч...</td>\n",
       "    </tr>\n",
       "  </tbody>\n",
       "</table>\n",
       "</div>"
      ],
      "text/plain": [
       "                                                link  sentence_order  \\\n",
       "0  data/raw_pages/www.kinopoisk.ru/media/article/...               0   \n",
       "1  data/raw_pages/www.kinopoisk.ru/media/article/...               1   \n",
       "2  data/raw_pages/www.kinopoisk.ru/media/article/...               2   \n",
       "3  data/raw_pages/www.kinopoisk.ru/media/article/...               3   \n",
       "4  data/raw_pages/www.kinopoisk.ru/media/article/...               4   \n",
       "\n",
       "                                       sentence_text  \n",
       "0  6 главный аниме-режиссёр xxi век — статья на к...  \n",
       "1  6 главный аниме-режиссёр xxi век сегодня обсуд...  \n",
       "2  масаак юас сатося кон исао такахат мамор хосод...  \n",
       "3  буйный визуальность он работа быть слишком рад...  \n",
       "4  зато « игра разум » заметить масао маруям соуч...  "
      ]
     },
     "execution_count": 135,
     "metadata": {},
     "output_type": "execute_result"
    }
   ],
   "source": [
    "pd.read_parquet('data/link_page_sentences.parquet').head(5)"
   ]
  }
 ],
 "metadata": {
  "kernelspec": {
   "display_name": "Python 3",
   "language": "python",
   "name": "python3"
  },
  "language_info": {
   "codemirror_mode": {
    "name": "ipython",
    "version": 3
   },
   "file_extension": ".py",
   "mimetype": "text/x-python",
   "name": "python",
   "nbconvert_exporter": "python",
   "pygments_lexer": "ipython3",
   "version": "3.8.8"
  }
 },
 "nbformat": 4,
 "nbformat_minor": 5
}
