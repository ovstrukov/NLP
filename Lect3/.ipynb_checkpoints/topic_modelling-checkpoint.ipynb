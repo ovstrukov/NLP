{
 "cells": [
  {
   "cell_type": "markdown",
   "metadata": {
    "id": "79NdO8ExIVaL"
   },
   "source": [
    "# ТМ для новостей"
   ]
  },
  {
   "cell_type": "code",
   "execution_count": 1,
   "metadata": {
    "executionInfo": {
     "elapsed": 3,
     "status": "ok",
     "timestamp": 1633689091204,
     "user": {
      "displayName": "Артур Сапрыкин",
      "photoUrl": "https://lh3.googleusercontent.com/a/default-user=s64",
      "userId": "16185371824692237125"
     },
     "user_tz": -180
    },
    "id": "Xh-_REKqIVaM"
   },
   "outputs": [],
   "source": [
    "import pandas as pd\n",
    "import matplotlib.pyplot as plt\n",
    "import warnings\n",
    "warnings.filterwarnings('ignore')\n",
    "\n",
    "%matplotlib inline"
   ]
  },
  {
   "cell_type": "code",
   "execution_count": 2,
   "metadata": {
    "colab": {
     "base_uri": "https://localhost:8080/"
    },
    "executionInfo": {
     "elapsed": 21652,
     "status": "ok",
     "timestamp": 1633689112854,
     "user": {
      "displayName": "Артур Сапрыкин",
      "photoUrl": "https://lh3.googleusercontent.com/a/default-user=s64",
      "userId": "16185371824692237125"
     },
     "user_tz": -180
    },
    "id": "9oZagZJdKfJ0",
    "outputId": "e2a0ac2d-60af-428e-ad96-c684cad2d53a"
   },
   "outputs": [
    {
     "name": "stdout",
     "output_type": "stream",
     "text": [
      "Mounted at /content/drive\n"
     ]
    }
   ],
   "source": [
    "from google.colab import drive\n",
    "drive.mount('/content/drive')"
   ]
  },
  {
   "cell_type": "code",
   "execution_count": 3,
   "metadata": {
    "colab": {
     "base_uri": "https://localhost:8080/",
     "height": 204
    },
    "executionInfo": {
     "elapsed": 908,
     "status": "ok",
     "timestamp": 1633689113756,
     "user": {
      "displayName": "Артур Сапрыкин",
      "photoUrl": "https://lh3.googleusercontent.com/a/default-user=s64",
      "userId": "16185371824692237125"
     },
     "user_tz": -180
    },
    "id": "uc_cQH1HIVaN",
    "outputId": "27e06087-e80d-4a12-d146-490e9ec333e0"
   },
   "outputs": [
    {
     "data": {
      "text/html": [
       "<div>\n",
       "<style scoped>\n",
       "    .dataframe tbody tr th:only-of-type {\n",
       "        vertical-align: middle;\n",
       "    }\n",
       "\n",
       "    .dataframe tbody tr th {\n",
       "        vertical-align: top;\n",
       "    }\n",
       "\n",
       "    .dataframe thead th {\n",
       "        text-align: right;\n",
       "    }\n",
       "</style>\n",
       "<table border=\"1\" class=\"dataframe\">\n",
       "  <thead>\n",
       "    <tr style=\"text-align: right;\">\n",
       "      <th></th>\n",
       "      <th>Unnamed: 0</th>\n",
       "      <th>event</th>\n",
       "      <th>text</th>\n",
       "    </tr>\n",
       "  </thead>\n",
       "  <tbody>\n",
       "    <tr>\n",
       "      <th>297</th>\n",
       "      <td>297</td>\n",
       "      <td>CNN показала фильм «Владимир Путин — самый вли...</td>\n",
       "      <td>CNN: ВЛАДИМИР ПУТИН - САМЫЙ МОГУЩЕСТВЕННЫЙ ЧЕ...</td>\n",
       "    </tr>\n",
       "    <tr>\n",
       "      <th>298</th>\n",
       "      <td>298</td>\n",
       "      <td>CNN показала фильм «Владимир Путин — самый вли...</td>\n",
       "      <td>РБК (rbc.ru), Москва, 14 марта 2017 КРЕМЛЬ ПР...</td>\n",
       "    </tr>\n",
       "    <tr>\n",
       "      <th>678</th>\n",
       "      <td>678</td>\n",
       "      <td>SpaceX впервые в истории запустила и посадила ...</td>\n",
       "      <td>Newstes.ru, Москва, 31 марта 2017 ПОЛЕТ НОРМА...</td>\n",
       "    </tr>\n",
       "    <tr>\n",
       "      <th>679</th>\n",
       "      <td>679</td>\n",
       "      <td>SpaceX впервые в истории запустила и посадила ...</td>\n",
       "      <td>Vistanews.ru, Москва, 31 марта 2017 SPACE X В...</td>\n",
       "    </tr>\n",
       "    <tr>\n",
       "      <th>680</th>\n",
       "      <td>680</td>\n",
       "      <td>SpaceX впервые в истории запустила и посадила ...</td>\n",
       "      <td>Russia Today (russian.rt.com), Москва, 31 мар...</td>\n",
       "    </tr>\n",
       "  </tbody>\n",
       "</table>\n",
       "</div>"
      ],
      "text/plain": [
       "     Unnamed: 0  ...                                               text\n",
       "297         297  ...   CNN: ВЛАДИМИР ПУТИН - САМЫЙ МОГУЩЕСТВЕННЫЙ ЧЕ...\n",
       "298         298  ...   РБК (rbc.ru), Москва, 14 марта 2017 КРЕМЛЬ ПР...\n",
       "678         678  ...   Newstes.ru, Москва, 31 марта 2017 ПОЛЕТ НОРМА...\n",
       "679         679  ...   Vistanews.ru, Москва, 31 марта 2017 SPACE X В...\n",
       "680         680  ...   Russia Today (russian.rt.com), Москва, 31 мар...\n",
       "\n",
       "[5 rows x 3 columns]"
      ]
     },
     "execution_count": 3,
     "metadata": {},
     "output_type": "execute_result"
    }
   ],
   "source": [
    "df = pd.read_csv('/content/drive/MyDrive/Teaching/Netology/NLP/data/news.csv')\n",
    "df.sort_values(by = ['event'], inplace = True)\n",
    "df.head()"
   ]
  },
  {
   "cell_type": "code",
   "execution_count": 4,
   "metadata": {
    "colab": {
     "base_uri": "https://localhost:8080/"
    },
    "executionInfo": {
     "elapsed": 11,
     "status": "ok",
     "timestamp": 1633689113757,
     "user": {
      "displayName": "Артур Сапрыкин",
      "photoUrl": "https://lh3.googleusercontent.com/a/default-user=s64",
      "userId": "16185371824692237125"
     },
     "user_tz": -180
    },
    "id": "b52Pr2oxIVaP",
    "outputId": "f390719a-ccd3-47a0-c76e-87221d45fc6b"
   },
   "outputs": [
    {
     "data": {
      "text/plain": [
       "Чемпионат мира по хоккею                                                                                    102\n",
       "Единый день голосования                                                                                     100\n",
       "Теракт в Барселоне                                                                                          100\n",
       "Митинг в москве против коррупции                                                                            100\n",
       "Ураган в Москве                                                                                             100\n",
       "Саммит G20                                                                                                  100\n",
       "Акции протеста 12 июня                                                                                      100\n",
       "Умер Евгений Евтушенко                                                                                      100\n",
       "Путин и Меркель в Сочи                                                                                      100\n",
       "Правительство внесло в Госдуму законопроект о курортных сборах                                              100\n",
       "Кубок конфедерации FiFA                                                                                     100\n",
       "Власти Петербурга согласились передать РПЦ Исаакиевский собор.                                              100\n",
       "теракт произошел в центре Лондона                                                                           100\n",
       "Скоропостижно скончался постпред России при ООН Виталий Чуркин.                                              84\n",
       "В центре Киева был убит бывший депутат Госдумы РФ от КПРФ Денис Вороненков                                   82\n",
       "Парламентские выборы в Великобритании                                                                        82\n",
       "Горячая линия Президента Путина                                                                              62\n",
       "Вышел фильм Навального «он Вам не димон»                                                                     62\n",
       "Дональд Трамп вступил в должность президента США.                                                            51\n",
       "SpaceX впервые в истории запустила и посадила уже летавшую ракету-носитель                                   49\n",
       "Победа Макрона во Франции                                                                                    45\n",
       "Умер Дэвид рокфеллер                                                                                         41\n",
       "Юлию Самойлову не пустили на евровидении в Киеве                                                             27\n",
       "Тиллерсон посещает Москву и встречается с Путиным                                                            24\n",
       "Митинг против Реновации в Москве                                                                              8\n",
       "Несанкционированные акции в Москве апрель                                                                     7\n",
       "Премьер Медведев выступает перед депутатами Госдумы с отчетом об итогах работы правительства за 2016 год      2\n",
       "CNN показала фильм «Владимир Путин — самый влиятельный человек в мире».                                       2\n",
       "Name: event, dtype: int64"
      ]
     },
     "execution_count": 4,
     "metadata": {},
     "output_type": "execute_result"
    }
   ],
   "source": [
    "df.event.value_counts()"
   ]
  },
  {
   "cell_type": "markdown",
   "metadata": {
    "id": "hPECzMw0IVaP"
   },
   "source": [
    "### Препроцессинг"
   ]
  },
  {
   "cell_type": "code",
   "execution_count": 5,
   "metadata": {
    "executionInfo": {
     "elapsed": 1115,
     "status": "ok",
     "timestamp": 1633689114866,
     "user": {
      "displayName": "Артур Сапрыкин",
      "photoUrl": "https://lh3.googleusercontent.com/a/default-user=s64",
      "userId": "16185371824692237125"
     },
     "user_tz": -180
    },
    "id": "RTfZM4MPIVaP"
   },
   "outputs": [],
   "source": [
    "import re\n",
    "from nltk.corpus import stopwords"
   ]
  },
  {
   "cell_type": "code",
   "execution_count": 6,
   "metadata": {
    "colab": {
     "base_uri": "https://localhost:8080/"
    },
    "executionInfo": {
     "elapsed": 5721,
     "status": "ok",
     "timestamp": 1633689120585,
     "user": {
      "displayName": "Артур Сапрыкин",
      "photoUrl": "https://lh3.googleusercontent.com/a/default-user=s64",
      "userId": "16185371824692237125"
     },
     "user_tz": -180
    },
    "id": "lKoniw_0IVaQ",
    "outputId": "699d1f21-b23f-4870-e6c1-ee989c2117d9"
   },
   "outputs": [
    {
     "name": "stderr",
     "output_type": "stream",
     "text": [
      "Installing mystem to /root/.local/bin/mystem from http://download.cdn.yandex.net/mystem/mystem-3.1-linux-64bit.tar.gz\n"
     ]
    }
   ],
   "source": [
    "from pymystem3 import Mystem\n",
    "m = Mystem()"
   ]
  },
  {
   "cell_type": "code",
   "execution_count": 7,
   "metadata": {
    "colab": {
     "base_uri": "https://localhost:8080/"
    },
    "executionInfo": {
     "elapsed": 8,
     "status": "ok",
     "timestamp": 1633689120586,
     "user": {
      "displayName": "Артур Сапрыкин",
      "photoUrl": "https://lh3.googleusercontent.com/a/default-user=s64",
      "userId": "16185371824692237125"
     },
     "user_tz": -180
    },
    "id": "1nFYyTlQNZ_z",
    "outputId": "7b4eb586-4f67-46cd-a608-bbddd1ae53b8"
   },
   "outputs": [
    {
     "name": "stdout",
     "output_type": "stream",
     "text": [
      "[nltk_data] Downloading package stopwords to /root/nltk_data...\n",
      "[nltk_data]   Unzipping corpora/stopwords.zip.\n"
     ]
    },
    {
     "data": {
      "text/plain": [
       "True"
      ]
     },
     "execution_count": 7,
     "metadata": {},
     "output_type": "execute_result"
    }
   ],
   "source": [
    "import nltk\n",
    "nltk.download('stopwords')"
   ]
  },
  {
   "cell_type": "code",
   "execution_count": 8,
   "metadata": {
    "executionInfo": {
     "elapsed": 4,
     "status": "ok",
     "timestamp": 1633689120586,
     "user": {
      "displayName": "Артур Сапрыкин",
      "photoUrl": "https://lh3.googleusercontent.com/a/default-user=s64",
      "userId": "16185371824692237125"
     },
     "user_tz": -180
    },
    "id": "GwCapHuKIVaQ"
   },
   "outputs": [],
   "source": [
    "mystopwords = stopwords.words('russian') + [\n",
    "    'это', 'наш' , 'тыс', 'млн', 'млрд', 'также',  'т', 'д',\n",
    "    'который','прошлый','сей', 'свой', 'наш', 'мочь', 'такой'\n",
    "]\n",
    "ru_words = re.compile(\"[А-Яа-я]+\")\n",
    "\n",
    "\n",
    "def words_only(text):\n",
    "    return \" \".join(ru_words.findall(text))\n",
    "\n",
    "\n",
    "def lemmatize(text, mystem=m):\n",
    "    try:\n",
    "        return \"\".join(m.lemmatize(text)).strip()  \n",
    "    except:\n",
    "        return \" \"\n",
    "\n",
    "\n",
    "def remove_stopwords(text, mystopwords = mystopwords):\n",
    "    try:\n",
    "        return \" \".join([token for token in text.split() if not token in mystopwords])\n",
    "    except:\n",
    "        return \"\"\n",
    "\n",
    "    \n",
    "def preprocess(text):\n",
    "    return remove_stopwords(lemmatize(words_only(text.lower())))"
   ]
  },
  {
   "cell_type": "code",
   "execution_count": null,
   "metadata": {
    "id": "SAUBbwNiIVaR"
   },
   "outputs": [],
   "source": [
    "%%time\n",
    "df.text = df.text.apply(preprocess)"
   ]
  },
  {
   "cell_type": "markdown",
   "metadata": {
    "id": "9Rbps46tIVaS"
   },
   "source": [
    "## Генсим\n",
    "\n",
    "### TfidfModel"
   ]
  },
  {
   "cell_type": "code",
   "execution_count": null,
   "metadata": {
    "id": "94UKl3D_IVaS"
   },
   "outputs": [],
   "source": [
    "from gensim.corpora import Dictionary\n",
    "from gensim.models import TfidfModel\n",
    "from gensim import similarities"
   ]
  },
  {
   "cell_type": "code",
   "execution_count": null,
   "metadata": {
    "id": "suiWngD5IVaS"
   },
   "outputs": [],
   "source": [
    "texts = [text.split() for text in df.text]\n",
    "dictionary = Dictionary(texts)\n",
    "corpus = [dictionary.doc2bow(text) for text in texts]"
   ]
  },
  {
   "cell_type": "code",
   "execution_count": null,
   "metadata": {
    "id": "abcEkvyVIVaT"
   },
   "outputs": [],
   "source": [
    "# поизучаем, что здесь происходит\n",
    "# corpus"
   ]
  },
  {
   "cell_type": "markdown",
   "metadata": {
    "id": "GxWbY5zIIVaT"
   },
   "source": [
    "Косинусная близость:\n",
    "\n",
    "\n",
    "$$similarity=\\cos(\\theta )={\\mathbf {A} \\cdot \\mathbf {B}  \\over \\|\\mathbf {A} \\|\\|\\mathbf {B} \\|}={\\frac {\\sum \\limits _{i=1}^{n}{A_{i}B_{i}}}{{\\sqrt {\\sum \\limits _{i=1}^{n}{A_{i}^{2}}}}{\\sqrt {\\sum \\limits _{i=1}^{n}{B_{i}^{2}}}}}}$$\n",
    "\n",
    "Вычисление сходства по косинусной мере на векторах $tf-idf$:"
   ]
  },
  {
   "cell_type": "code",
   "execution_count": null,
   "metadata": {
    "id": "iqRhGGiMIVaU"
   },
   "outputs": [],
   "source": [
    "tfidf = TfidfModel(corpus)\n",
    "corpus_tfidf = tfidf[corpus]"
   ]
  },
  {
   "cell_type": "code",
   "execution_count": null,
   "metadata": {
    "id": "5wkWqxvrIVaU"
   },
   "outputs": [],
   "source": [
    "corpus_tfidf"
   ]
  },
  {
   "cell_type": "code",
   "execution_count": null,
   "metadata": {
    "id": "V_9wme8iIVaU"
   },
   "outputs": [],
   "source": [
    "# %%time\n",
    "index = similarities.MatrixSimilarity(corpus_tfidf)\n",
    "sims = index[corpus_tfidf]"
   ]
  },
  {
   "cell_type": "code",
   "execution_count": null,
   "metadata": {
    "id": "H-oALd69IVaU"
   },
   "outputs": [],
   "source": [
    "len(corpus)"
   ]
  },
  {
   "cell_type": "code",
   "execution_count": null,
   "metadata": {
    "id": "k7oaTBsaIVaU"
   },
   "outputs": [],
   "source": [
    "sims[0]"
   ]
  },
  {
   "cell_type": "code",
   "execution_count": null,
   "metadata": {
    "id": "7vkjUDpvIVaU"
   },
   "outputs": [],
   "source": [
    "sims.shape"
   ]
  },
  {
   "cell_type": "code",
   "execution_count": null,
   "metadata": {
    "id": "DTScdx4wIVaV"
   },
   "outputs": [],
   "source": [
    "import seaborn as sns"
   ]
  },
  {
   "cell_type": "code",
   "execution_count": null,
   "metadata": {
    "id": "rIbo14NLIVaV"
   },
   "outputs": [],
   "source": [
    "plt.figure(figsize = (10,10))\n",
    "sns.heatmap(data=sims, cmap = 'Spectral').set(xticklabels=[],yticklabels=[])\n",
    "plt.title(\"Матрица близости\")\n",
    "plt.show()"
   ]
  },
  {
   "cell_type": "markdown",
   "metadata": {
    "id": "28LzwxnzIVaV"
   },
   "source": [
    "### Латентно-семантический анализ (LSA, LSI)\n",
    "\n",
    "\n",
    "Сингулярное разложение: $M'_k = U \\Sigma_k V^t_k$\n",
    "\n",
    "* $M$ – матрица слово-документ\n",
    "* $U$ – матрица документ-тема\n",
    "* $k$ – число тем\n",
    "* $V$ - матрица слово-тема"
   ]
  },
  {
   "cell_type": "code",
   "execution_count": null,
   "metadata": {
    "id": "RKbwUo3zIVaV"
   },
   "outputs": [],
   "source": [
    "from gensim.models import lsimodel"
   ]
  },
  {
   "cell_type": "code",
   "execution_count": null,
   "metadata": {
    "id": "B1-mIFauIVaV"
   },
   "outputs": [],
   "source": [
    "%%time\n",
    "lsi = lsimodel.LsiModel(corpus=corpus_tfidf, id2word=dictionary, num_topics=30)"
   ]
  },
  {
   "cell_type": "code",
   "execution_count": null,
   "metadata": {
    "id": "g49xUkq3IVaW"
   },
   "outputs": [],
   "source": [
    "lsi.show_topics(5)"
   ]
  },
  {
   "cell_type": "markdown",
   "metadata": {
    "id": "w-8P-P1pIVaW"
   },
   "source": [
    "Как снижение размерности влияет на матрицу близости:"
   ]
  },
  {
   "cell_type": "code",
   "execution_count": null,
   "metadata": {
    "id": "nyNB-sMrIVaW"
   },
   "outputs": [],
   "source": [
    "corpus_lsi = lsi[corpus]\n",
    "index = similarities.MatrixSimilarity(lsi[corpus])\n",
    "sims = index[corpus_lsi]\n",
    "sims  = (sims + 1)/2.\n",
    "plt.figure(figsize = (10,10))\n",
    "sns.heatmap(data=sims, cmap = 'Spectral').set(xticklabels=[], yticklabels=[])\n",
    "plt.title(\"Матрица близости\")\n",
    "plt.show()"
   ]
  },
  {
   "cell_type": "markdown",
   "metadata": {
    "id": "nsBjWRg7IVaW"
   },
   "source": [
    "### Главные компоненты"
   ]
  },
  {
   "cell_type": "code",
   "execution_count": null,
   "metadata": {
    "id": "SIUWtsOmIVaW"
   },
   "outputs": [],
   "source": [
    "X = [0] * len(df)\n",
    "Y = [0] * len(df)\n",
    "for i in range(len(df)):\n",
    "    vec = corpus[i]\n",
    "    LSI_topics = (lsi[vec])\n",
    "    for topic in LSI_topics:\n",
    "        if topic[0] == 0:\n",
    "            X[i] = topic[1]\n",
    "        elif topic[0] == 1:\n",
    "            Y[i] = topic[1]\n",
    "\n",
    "vis_df = pd.DataFrame({'X': X, 'Y': Y, 'topic' : df.event})"
   ]
  },
  {
   "cell_type": "code",
   "execution_count": null,
   "metadata": {
    "id": "e1tsdnmaIVaW"
   },
   "outputs": [],
   "source": [
    "sns.FacetGrid(vis_df, hue=\"topic\", size = 10).map(plt.scatter, \"X\", \"Y\").add_legend()"
   ]
  },
  {
   "cell_type": "markdown",
   "metadata": {
    "id": "lq772gynIVaW"
   },
   "source": [
    "### Truncated SVD и TSNE"
   ]
  },
  {
   "cell_type": "markdown",
   "metadata": {
    "id": "gJwxb4k_IVaW"
   },
   "source": [
    "#### t-SNE\n",
    "t-SNE (t-distributed Stochastic Neighbor Embedding) — техника нелинейного снижения размерности и визуализации многомерных переменных. Она разработана специально для данных высокой размерности Л. ван дер Маатеном и Д. Хинтоном. t-SNE — это итеративный алгоритм, основанный на вычислении попарных расстояний между всеми объектами (в том числе поэтому он довольно медленный).\n",
    "\n",
    "![TSNE](TSNE.jpg)"
   ]
  },
  {
   "cell_type": "code",
   "execution_count": null,
   "metadata": {
    "id": "YhKQI-oWIVaX"
   },
   "outputs": [],
   "source": [
    "from sklearn.manifold import TSNE\n",
    "from sklearn.decomposition import TruncatedSVD\n",
    "from sklearn.pipeline import Pipeline\n",
    "from sklearn.preprocessing import Normalizer\n",
    "from sklearn.feature_extraction.text import TfidfVectorizer"
   ]
  },
  {
   "cell_type": "code",
   "execution_count": null,
   "metadata": {
    "id": "pUyb1_5cIVaX"
   },
   "outputs": [],
   "source": [
    "vectors = TfidfVectorizer().fit_transform(df.text) # строим тф-идф матрицу документ-слово\n",
    "X_reduced = TruncatedSVD(n_components=5, random_state=0).fit_transform(vectors) # оставляем n главных компонент"
   ]
  },
  {
   "cell_type": "code",
   "execution_count": null,
   "metadata": {
    "id": "3PsGSXFsIVaX"
   },
   "outputs": [],
   "source": [
    "X_reduced"
   ]
  },
  {
   "cell_type": "code",
   "execution_count": null,
   "metadata": {
    "id": "DEotzJiEIVaX"
   },
   "outputs": [],
   "source": [
    "# %%time\n",
    "X_embedded = TSNE(n_components=2, perplexity=5, verbose=0).fit_transform(X_reduced) # строим мэппинг в двухмерную плоскость с TSNE"
   ]
  },
  {
   "cell_type": "code",
   "execution_count": null,
   "metadata": {
    "id": "mDt7DZhwIVaX"
   },
   "outputs": [],
   "source": [
    "vis_df = pd.DataFrame({'X': X_embedded[:, 0], 'Y': X_embedded[:, 1], 'topic' : df.event})\n",
    "sns.FacetGrid(vis_df, hue=\"topic\", size=10).map(plt.scatter, \"X\", \"Y\").add_legend()"
   ]
  },
  {
   "cell_type": "markdown",
   "metadata": {
    "id": "hBrQRT5FIVaX"
   },
   "source": [
    "Advanced: [bigARTM](https://bigartm.readthedocs.io/en/stable/tutorials/python_tutorial.html)"
   ]
  },
  {
   "cell_type": "markdown",
   "metadata": {
    "id": "zlISuzSKIVaX"
   },
   "source": [
    "### Задание: классификация"
   ]
  },
  {
   "cell_type": "markdown",
   "metadata": {
    "id": "t9yfB406IVaX"
   },
   "source": [
    "#### Данные\n",
    "\n",
    "Скачиваются по [ссылке](https://drive.google.com/open?id=1gJEpwM3zdV5xe9nRU0VwQmGTiOTQdp10). Это отзывы пользователей на фильмы с КиноПоиска."
   ]
  },
  {
   "cell_type": "code",
   "execution_count": null,
   "metadata": {
    "id": "_HA2mSpQIVaX"
   },
   "outputs": [],
   "source": [
    "import pandas as pd"
   ]
  },
  {
   "cell_type": "code",
   "execution_count": null,
   "metadata": {
    "id": "xZhhhBw5IVaX"
   },
   "outputs": [],
   "source": [
    "df = pd.read_csv('reviews.csv')"
   ]
  },
  {
   "cell_type": "code",
   "execution_count": null,
   "metadata": {
    "id": "I0XvRxJ7IVaX"
   },
   "outputs": [],
   "source": [
    "df.head()"
   ]
  },
  {
   "cell_type": "markdown",
   "metadata": {
    "id": "qgRniAAiIVaX"
   },
   "source": [
    "#### Задание\n",
    "\n",
    "С помощью TruncatedSVD постройте векторное представление текстов в датасете.\n",
    "Обучите на этих представлениях любой классификатор. Попробуйте разное количество компонент в интерванле от 30 до 300. Какое страдотало лучше?"
   ]
  },
  {
   "cell_type": "code",
   "execution_count": null,
   "metadata": {
    "id": "wswdd1v_IVaX"
   },
   "outputs": [],
   "source": []
  }
 ],
 "metadata": {
  "colab": {
   "collapsed_sections": [],
   "name": "topic_modelling.ipynb",
   "provenance": []
  },
  "kernelspec": {
   "display_name": "Python 3",
   "language": "python",
   "name": "python3"
  },
  "language_info": {
   "codemirror_mode": {
    "name": "ipython",
    "version": 3
   },
   "file_extension": ".py",
   "mimetype": "text/x-python",
   "name": "python",
   "nbconvert_exporter": "python",
   "pygments_lexer": "ipython3",
   "version": "3.8.8"
  }
 },
 "nbformat": 4,
 "nbformat_minor": 1
}
