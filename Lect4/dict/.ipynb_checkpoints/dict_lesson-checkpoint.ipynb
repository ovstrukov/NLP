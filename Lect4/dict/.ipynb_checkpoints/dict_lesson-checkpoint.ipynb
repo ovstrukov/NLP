{
 "cells": [
  {
   "cell_type": "code",
   "execution_count": 1,
   "id": "a22404c1-3e46-4548-855c-b4661b8853af",
   "metadata": {},
   "outputs": [],
   "source": [
    "import pandas as pd"
   ]
  },
  {
   "cell_type": "code",
   "execution_count": 2,
   "id": "b79db010-d592-4454-ad74-392a07d8d34e",
   "metadata": {},
   "outputs": [
    {
     "data": {
      "text/html": [
       "<div>\n",
       "<style scoped>\n",
       "    .dataframe tbody tr th:only-of-type {\n",
       "        vertical-align: middle;\n",
       "    }\n",
       "\n",
       "    .dataframe tbody tr th {\n",
       "        vertical-align: top;\n",
       "    }\n",
       "\n",
       "    .dataframe thead th {\n",
       "        text-align: right;\n",
       "    }\n",
       "</style>\n",
       "<table border=\"1\" class=\"dataframe\">\n",
       "  <thead>\n",
       "    <tr style=\"text-align: right;\">\n",
       "      <th></th>\n",
       "      <th>text_part</th>\n",
       "    </tr>\n",
       "  </thead>\n",
       "  <tbody>\n",
       "    <tr>\n",
       "      <th>0</th>\n",
       "      <td>771001001 кпп по октмо гбу \"жилищник района м...</td>\n",
       "    </tr>\n",
       "    <tr>\n",
       "      <th>1</th>\n",
       "      <td>5147746350230, окато 45283559000 октмо 453670...</td>\n",
       "    </tr>\n",
       "    <tr>\n",
       "      <th>2</th>\n",
       "      <td>он. статья 15 адреса, реквизиты и подписи стор...</td>\n",
       "    </tr>\n",
       "    <tr>\n",
       "      <th>3</th>\n",
       "      <td>сударственное бюджетное учреждение гор. москвы...</td>\n",
       "    </tr>\n",
       "    <tr>\n",
       "      <th>4</th>\n",
       "      <td>остью «дорстройгрупп» (ооо «дорстройгрупп» юри...</td>\n",
       "    </tr>\n",
       "  </tbody>\n",
       "</table>\n",
       "</div>"
      ],
      "text/plain": [
       "                                           text_part\n",
       "0   771001001 кпп по октмо гбу \"жилищник района м...\n",
       "1   5147746350230, окато 45283559000 октмо 453670...\n",
       "2  он. статья 15 адреса, реквизиты и подписи стор...\n",
       "3  сударственное бюджетное учреждение гор. москвы...\n",
       "4  остью «дорстройгрупп» (ооо «дорстройгрупп» юри..."
      ]
     },
     "execution_count": 2,
     "metadata": {},
     "output_type": "execute_result"
    }
   ],
   "source": [
    "data = pd.read_csv('base_address_ner_dataset.csv')\n",
    "data.head(5)"
   ]
  },
  {
   "cell_type": "code",
   "execution_count": 4,
   "id": "0c55b25a-5b24-453b-895b-a605a450c74d",
   "metadata": {},
   "outputs": [
    {
     "data": {
      "text/plain": [
       "' 771001001 кпп по октмо гбу \"жилищник района митино\" государственные бюджетные учреждения субъектов российской федерации 7733902394 кпп 773301001 по окфс место нахождения (адрес) S125430, город москва, пятницкое шоссе, дом 23E реквизиты сведений об объекте контроля 45000000 инн по окопф форма собственности № п/п дата протокола по октмо 75203 29368873 45367000000 реквизиты документа, содержащего информацию для осуществления'"
      ]
     },
     "execution_count": 4,
     "metadata": {},
     "output_type": "execute_result"
    }
   ],
   "source": [
    "data.text_part[0]"
   ]
  },
  {
   "cell_type": "code",
   "execution_count": 6,
   "id": "12865cfa-4049-4d3f-ab75-15d15c52c7b2",
   "metadata": {},
   "outputs": [
    {
     "name": "stderr",
     "output_type": "stream",
     "text": [
      "<ipython-input-6-0faac5d7e94c>:1: FutureWarning: The default value of regex will change from True to False in a future version.\n",
      "  data.text_part = data.text_part.str.replace('S', ' S ').str.replace('E', ' E ').str.replace('\\s\\s+', ' ')\n"
     ]
    },
    {
     "data": {
      "text/plain": [
       "0       771001001 кпп по октмо гбу \"жилищник района м...\n",
       "1       5147746350230, окато 45283559000 октмо 453670...\n",
       "2      он. статья 15 адреса, реквизиты и подписи стор...\n",
       "3      сударственное бюджетное учреждение гор. москвы...\n",
       "4      остью «дорстройгрупп» (ооо «дорстройгрупп» юри...\n",
       "                             ...                        \n",
       "741    тракту №обю/19-1 локальная смета № (локальный ...\n",
       "742    ткая марка по плотности 70 длина 1000; 2000 мм...\n",
       "743    т 19.06.2017 № 508671, выданной публичным акци...\n",
       "744    и сжатии 300 или 400 400 вид цемента портландц...\n",
       "745    фск партнер а.с. колеснику fild адреса: - юрид...\n",
       "Name: text_part, Length: 746, dtype: object"
      ]
     },
     "execution_count": 6,
     "metadata": {},
     "output_type": "execute_result"
    }
   ],
   "source": [
    "data.text_part = data.text_part.str.replace('S', ' S ').str.replace('E', ' E ').str.replace('\\s\\s+', ' ')\n",
    "data.text_part"
   ]
  },
  {
   "cell_type": "code",
   "execution_count": 7,
   "id": "7b44d0ac-2925-474e-8522-dc4f913089ae",
   "metadata": {},
   "outputs": [
    {
     "data": {
      "text/plain": [
       "' 771001001 кпп по октмо гбу \"жилищник района митино\" государственные бюджетные учреждения субъектов российской федерации 7733902394 кпп 773301001 по окфс место нахождения (адрес) S 125430, город москва, пятницкое шоссе, дом 23 E реквизиты сведений об объекте контроля 45000000 инн по окопф форма собственности № п/п дата протокола по октмо 75203 29368873 45367000000 реквизиты документа, содержащего информацию для осуществления'"
      ]
     },
     "execution_count": 7,
     "metadata": {},
     "output_type": "execute_result"
    }
   ],
   "source": [
    "data.text_part[0]"
   ]
  },
  {
   "cell_type": "code",
   "execution_count": 8,
   "id": "a6de679e-ff9e-4274-9ce1-91d066ebfee2",
   "metadata": {},
   "outputs": [],
   "source": [
    "from nltk.tokenize import WordPunctTokenizer\n",
    "\n",
    "wpt = WordPunctTokenizer()"
   ]
  },
  {
   "cell_type": "code",
   "execution_count": 91,
   "id": "9ddf5b94-e88c-4b7f-851f-b3dfcc8c4a67",
   "metadata": {},
   "outputs": [],
   "source": [
    "def prepare_text(text):\n",
    "    toks = wpt.tokenize(text)\n",
    "\n",
    "    mask = []\n",
    "    is_address = False\n",
    "\n",
    "    for t in toks:\n",
    "        if t == 'S':\n",
    "            mask.append(0)\n",
    "            is_address = True\n",
    "            continue\n",
    "        elif t == 'E':\n",
    "            mask.append(0)\n",
    "            is_address = False\n",
    "            continue\n",
    "\n",
    "        index = 1 if is_address else 0\n",
    "        mask.append(index)\n",
    "\n",
    "    text_df = pd.DataFrame({'token': toks, 'is_address': mask})\n",
    "    text_df.loc[:, 'prev_info'] = text_df['is_address'].shift(1).fillna(0.0)\n",
    "    \n",
    "    text_df = text_df[~text_df['token'].isin(['S', 'E'])]\n",
    "    \n",
    "    hist = 3\n",
    "    for i in range(1, hist+1):\n",
    "        text_df.loc[:, f'hist_{i}'] = text_df['token'].shift(i)\n",
    "\n",
    "    future = 3\n",
    "    for i in range(1, future+1):\n",
    "        text_df.loc[:, f'future{i}'] = text_df['token'].shift(-i)\n",
    "\n",
    "    text_df = text_df.fillna('UNKNOWN')\n",
    "\n",
    "    return text_df"
   ]
  },
  {
   "cell_type": "code",
   "execution_count": 92,
   "id": "95b91b2a-7d96-46d1-a71e-470ce2e5c6a8",
   "metadata": {},
   "outputs": [],
   "source": [
    "text_dfs = []\n",
    "for text in data.text_part.values:\n",
    "    text_dfs.append(prepare_text(text))"
   ]
  },
  {
   "cell_type": "code",
   "execution_count": 93,
   "id": "567cbbd3-8cbd-4c1c-9b40-b99fe92cace8",
   "metadata": {},
   "outputs": [
    {
     "data": {
      "text/plain": [
       "746"
      ]
     },
     "execution_count": 93,
     "metadata": {},
     "output_type": "execute_result"
    }
   ],
   "source": [
    "len(text_dfs)"
   ]
  },
  {
   "cell_type": "code",
   "execution_count": 94,
   "id": "c2a96da4-29b4-4692-87b7-0fb4621c96ab",
   "metadata": {},
   "outputs": [
    {
     "data": {
      "text/html": [
       "<div>\n",
       "<style scoped>\n",
       "    .dataframe tbody tr th:only-of-type {\n",
       "        vertical-align: middle;\n",
       "    }\n",
       "\n",
       "    .dataframe tbody tr th {\n",
       "        vertical-align: top;\n",
       "    }\n",
       "\n",
       "    .dataframe thead th {\n",
       "        text-align: right;\n",
       "    }\n",
       "</style>\n",
       "<table border=\"1\" class=\"dataframe\">\n",
       "  <thead>\n",
       "    <tr style=\"text-align: right;\">\n",
       "      <th></th>\n",
       "      <th>token</th>\n",
       "      <th>is_address</th>\n",
       "      <th>prev_info</th>\n",
       "      <th>hist_1</th>\n",
       "      <th>hist_2</th>\n",
       "      <th>hist_3</th>\n",
       "      <th>future1</th>\n",
       "      <th>future2</th>\n",
       "      <th>future3</th>\n",
       "    </tr>\n",
       "  </thead>\n",
       "  <tbody>\n",
       "    <tr>\n",
       "      <th>0</th>\n",
       "      <td>771001001</td>\n",
       "      <td>0</td>\n",
       "      <td>0.0</td>\n",
       "      <td>UNKNOWN</td>\n",
       "      <td>UNKNOWN</td>\n",
       "      <td>UNKNOWN</td>\n",
       "      <td>кпп</td>\n",
       "      <td>по</td>\n",
       "      <td>октмо</td>\n",
       "    </tr>\n",
       "    <tr>\n",
       "      <th>1</th>\n",
       "      <td>кпп</td>\n",
       "      <td>0</td>\n",
       "      <td>0.0</td>\n",
       "      <td>771001001</td>\n",
       "      <td>UNKNOWN</td>\n",
       "      <td>UNKNOWN</td>\n",
       "      <td>по</td>\n",
       "      <td>октмо</td>\n",
       "      <td>гбу</td>\n",
       "    </tr>\n",
       "    <tr>\n",
       "      <th>2</th>\n",
       "      <td>по</td>\n",
       "      <td>0</td>\n",
       "      <td>0.0</td>\n",
       "      <td>кпп</td>\n",
       "      <td>771001001</td>\n",
       "      <td>UNKNOWN</td>\n",
       "      <td>октмо</td>\n",
       "      <td>гбу</td>\n",
       "      <td>\"</td>\n",
       "    </tr>\n",
       "    <tr>\n",
       "      <th>3</th>\n",
       "      <td>октмо</td>\n",
       "      <td>0</td>\n",
       "      <td>0.0</td>\n",
       "      <td>по</td>\n",
       "      <td>кпп</td>\n",
       "      <td>771001001</td>\n",
       "      <td>гбу</td>\n",
       "      <td>\"</td>\n",
       "      <td>жилищник</td>\n",
       "    </tr>\n",
       "    <tr>\n",
       "      <th>4</th>\n",
       "      <td>гбу</td>\n",
       "      <td>0</td>\n",
       "      <td>0.0</td>\n",
       "      <td>октмо</td>\n",
       "      <td>по</td>\n",
       "      <td>кпп</td>\n",
       "      <td>\"</td>\n",
       "      <td>жилищник</td>\n",
       "      <td>района</td>\n",
       "    </tr>\n",
       "  </tbody>\n",
       "</table>\n",
       "</div>"
      ],
      "text/plain": [
       "       token  is_address  prev_info     hist_1     hist_2     hist_3 future1  \\\n",
       "0  771001001           0        0.0    UNKNOWN    UNKNOWN    UNKNOWN     кпп   \n",
       "1        кпп           0        0.0  771001001    UNKNOWN    UNKNOWN      по   \n",
       "2         по           0        0.0        кпп  771001001    UNKNOWN   октмо   \n",
       "3      октмо           0        0.0         по        кпп  771001001     гбу   \n",
       "4        гбу           0        0.0      октмо         по        кпп       \"   \n",
       "\n",
       "    future2   future3  \n",
       "0        по     октмо  \n",
       "1     октмо       гбу  \n",
       "2       гбу         \"  \n",
       "3         \"  жилищник  \n",
       "4  жилищник    района  "
      ]
     },
     "execution_count": 94,
     "metadata": {},
     "output_type": "execute_result"
    }
   ],
   "source": [
    "text_dfs = pd.concat(text_dfs)\n",
    "text_dfs.head(5)"
   ]
  },
  {
   "cell_type": "code",
   "execution_count": 95,
   "id": "783eafe7-5925-445c-9c56-7609ea0109c3",
   "metadata": {},
   "outputs": [
    {
     "data": {
      "text/plain": [
       "(74486, 9)"
      ]
     },
     "execution_count": 95,
     "metadata": {},
     "output_type": "execute_result"
    }
   ],
   "source": [
    "text_dfs.shape"
   ]
  },
  {
   "cell_type": "code",
   "execution_count": 96,
   "id": "90f8fa7e-c814-4d09-8586-03961079c8e7",
   "metadata": {},
   "outputs": [
    {
     "data": {
      "text/plain": [
       "LabelEncoder()"
      ]
     },
     "execution_count": 96,
     "metadata": {},
     "output_type": "execute_result"
    }
   ],
   "source": [
    "from sklearn.preprocessing import LabelEncoder\n",
    "\n",
    "encoder = LabelEncoder()\n",
    "encoder.fit(text_dfs['token'].tolist() + text_dfs['hist_1'].tolist())"
   ]
  },
  {
   "cell_type": "code",
   "execution_count": 97,
   "id": "e58f2f83-4b09-4fd9-bf21-74e3730d848e",
   "metadata": {},
   "outputs": [
    {
     "data": {
      "text/plain": [
       "Index(['token', 'is_address', 'prev_info', 'hist_1', 'hist_2', 'hist_3',\n",
       "       'future1', 'future2', 'future3'],\n",
       "      dtype='object')"
      ]
     },
     "execution_count": 97,
     "metadata": {},
     "output_type": "execute_result"
    }
   ],
   "source": [
    "text_dfs.columns"
   ]
  },
  {
   "cell_type": "code",
   "execution_count": 98,
   "id": "0f7bc949-f0b3-4685-bf3f-30afe2429cbc",
   "metadata": {},
   "outputs": [],
   "source": [
    "digit_tdf = text_dfs.copy()\n",
    "\n",
    "wrd_cols = ['token', 'hist_1', 'hist_2', 'hist_3', 'future1', 'future2', 'future3']\n",
    "for wc in wrd_cols:\n",
    "    digit_tdf.loc[:, wc] = encoder.transform(text_dfs[wc])"
   ]
  },
  {
   "cell_type": "code",
   "execution_count": 99,
   "id": "88c587e7-6efd-4590-8847-105e1170d93c",
   "metadata": {},
   "outputs": [
    {
     "data": {
      "text/html": [
       "<div>\n",
       "<style scoped>\n",
       "    .dataframe tbody tr th:only-of-type {\n",
       "        vertical-align: middle;\n",
       "    }\n",
       "\n",
       "    .dataframe tbody tr th {\n",
       "        vertical-align: top;\n",
       "    }\n",
       "\n",
       "    .dataframe thead th {\n",
       "        text-align: right;\n",
       "    }\n",
       "</style>\n",
       "<table border=\"1\" class=\"dataframe\">\n",
       "  <thead>\n",
       "    <tr style=\"text-align: right;\">\n",
       "      <th></th>\n",
       "      <th>token</th>\n",
       "      <th>is_address</th>\n",
       "      <th>prev_info</th>\n",
       "      <th>hist_1</th>\n",
       "      <th>hist_2</th>\n",
       "      <th>hist_3</th>\n",
       "      <th>future1</th>\n",
       "      <th>future2</th>\n",
       "      <th>future3</th>\n",
       "    </tr>\n",
       "  </thead>\n",
       "  <tbody>\n",
       "    <tr>\n",
       "      <th>0</th>\n",
       "      <td>1373</td>\n",
       "      <td>0</td>\n",
       "      <td>0.0</td>\n",
       "      <td>1663</td>\n",
       "      <td>1663</td>\n",
       "      <td>1663</td>\n",
       "      <td>3408</td>\n",
       "      <td>4426</td>\n",
       "      <td>4120</td>\n",
       "    </tr>\n",
       "    <tr>\n",
       "      <th>1</th>\n",
       "      <td>3408</td>\n",
       "      <td>0</td>\n",
       "      <td>0.0</td>\n",
       "      <td>1373</td>\n",
       "      <td>1663</td>\n",
       "      <td>1663</td>\n",
       "      <td>4426</td>\n",
       "      <td>4120</td>\n",
       "      <td>2444</td>\n",
       "    </tr>\n",
       "    <tr>\n",
       "      <th>2</th>\n",
       "      <td>4426</td>\n",
       "      <td>0</td>\n",
       "      <td>0.0</td>\n",
       "      <td>3408</td>\n",
       "      <td>1373</td>\n",
       "      <td>1663</td>\n",
       "      <td>4120</td>\n",
       "      <td>2444</td>\n",
       "      <td>3</td>\n",
       "    </tr>\n",
       "    <tr>\n",
       "      <th>3</th>\n",
       "      <td>4120</td>\n",
       "      <td>0</td>\n",
       "      <td>0.0</td>\n",
       "      <td>4426</td>\n",
       "      <td>3408</td>\n",
       "      <td>1373</td>\n",
       "      <td>2444</td>\n",
       "      <td>3</td>\n",
       "      <td>2886</td>\n",
       "    </tr>\n",
       "    <tr>\n",
       "      <th>4</th>\n",
       "      <td>2444</td>\n",
       "      <td>0</td>\n",
       "      <td>0.0</td>\n",
       "      <td>4120</td>\n",
       "      <td>4426</td>\n",
       "      <td>3408</td>\n",
       "      <td>3</td>\n",
       "      <td>2886</td>\n",
       "      <td>4810</td>\n",
       "    </tr>\n",
       "    <tr>\n",
       "      <th>...</th>\n",
       "      <td>...</td>\n",
       "      <td>...</td>\n",
       "      <td>...</td>\n",
       "      <td>...</td>\n",
       "      <td>...</td>\n",
       "      <td>...</td>\n",
       "      <td>...</td>\n",
       "      <td>...</td>\n",
       "      <td>...</td>\n",
       "    </tr>\n",
       "    <tr>\n",
       "      <th>95</th>\n",
       "      <td>38</td>\n",
       "      <td>0</td>\n",
       "      <td>0.0</td>\n",
       "      <td>2925</td>\n",
       "      <td>65</td>\n",
       "      <td>5396</td>\n",
       "      <td>3013</td>\n",
       "      <td>4144</td>\n",
       "      <td>5745</td>\n",
       "    </tr>\n",
       "    <tr>\n",
       "      <th>96</th>\n",
       "      <td>3013</td>\n",
       "      <td>0</td>\n",
       "      <td>0.0</td>\n",
       "      <td>38</td>\n",
       "      <td>2925</td>\n",
       "      <td>65</td>\n",
       "      <td>4144</td>\n",
       "      <td>5745</td>\n",
       "      <td>4328</td>\n",
       "    </tr>\n",
       "    <tr>\n",
       "      <th>97</th>\n",
       "      <td>4144</td>\n",
       "      <td>0</td>\n",
       "      <td>0.0</td>\n",
       "      <td>3013</td>\n",
       "      <td>38</td>\n",
       "      <td>2925</td>\n",
       "      <td>5745</td>\n",
       "      <td>4328</td>\n",
       "      <td>1663</td>\n",
       "    </tr>\n",
       "    <tr>\n",
       "      <th>98</th>\n",
       "      <td>5745</td>\n",
       "      <td>0</td>\n",
       "      <td>0.0</td>\n",
       "      <td>4144</td>\n",
       "      <td>3013</td>\n",
       "      <td>38</td>\n",
       "      <td>4328</td>\n",
       "      <td>1663</td>\n",
       "      <td>1663</td>\n",
       "    </tr>\n",
       "    <tr>\n",
       "      <th>99</th>\n",
       "      <td>4328</td>\n",
       "      <td>0</td>\n",
       "      <td>0.0</td>\n",
       "      <td>5745</td>\n",
       "      <td>4144</td>\n",
       "      <td>3013</td>\n",
       "      <td>1663</td>\n",
       "      <td>1663</td>\n",
       "      <td>1663</td>\n",
       "    </tr>\n",
       "  </tbody>\n",
       "</table>\n",
       "<p>74486 rows × 9 columns</p>\n",
       "</div>"
      ],
      "text/plain": [
       "    token  is_address  prev_info  hist_1  hist_2  hist_3  future1  future2  \\\n",
       "0    1373           0        0.0    1663    1663    1663     3408     4426   \n",
       "1    3408           0        0.0    1373    1663    1663     4426     4120   \n",
       "2    4426           0        0.0    3408    1373    1663     4120     2444   \n",
       "3    4120           0        0.0    4426    3408    1373     2444        3   \n",
       "4    2444           0        0.0    4120    4426    3408        3     2886   \n",
       "..    ...         ...        ...     ...     ...     ...      ...      ...   \n",
       "95     38           0        0.0    2925      65    5396     3013     4144   \n",
       "96   3013           0        0.0      38    2925      65     4144     5745   \n",
       "97   4144           0        0.0    3013      38    2925     5745     4328   \n",
       "98   5745           0        0.0    4144    3013      38     4328     1663   \n",
       "99   4328           0        0.0    5745    4144    3013     1663     1663   \n",
       "\n",
       "    future3  \n",
       "0      4120  \n",
       "1      2444  \n",
       "2         3  \n",
       "3      2886  \n",
       "4      4810  \n",
       "..      ...  \n",
       "95     5745  \n",
       "96     4328  \n",
       "97     1663  \n",
       "98     1663  \n",
       "99     1663  \n",
       "\n",
       "[74486 rows x 9 columns]"
      ]
     },
     "execution_count": 99,
     "metadata": {},
     "output_type": "execute_result"
    }
   ],
   "source": [
    "digit_tdf"
   ]
  },
  {
   "cell_type": "code",
   "execution_count": 100,
   "id": "4c552225-bffc-47fb-bc99-5b1480d44ccd",
   "metadata": {},
   "outputs": [],
   "source": [
    "X = digit_tdf.drop(['is_address'], axis=1)\n",
    "y = digit_tdf['is_address']"
   ]
  },
  {
   "cell_type": "code",
   "execution_count": 101,
   "id": "5254088b-c35a-4bbb-ab4a-257ac5aa1772",
   "metadata": {},
   "outputs": [],
   "source": [
    "from sklearn.model_selection import train_test_split\n",
    "from sklearn.ensemble import RandomForestClassifier\n",
    "\n",
    "# X_train, X_test, y_train, y_test = train_test_split(X, y, test_size=0.2, stratify=y)\n",
    "X_train = X[:55000]\n",
    "y_train = y[:55000]\n",
    "\n",
    "X_test = X[55000:]\n",
    "y_test = y[55000:]"
   ]
  },
  {
   "cell_type": "code",
   "execution_count": 102,
   "id": "81aaf374-e2bd-4461-b785-2a80fb905fbf",
   "metadata": {},
   "outputs": [
    {
     "data": {
      "text/plain": [
       "RandomForestClassifier(max_depth=10)"
      ]
     },
     "execution_count": 102,
     "metadata": {},
     "output_type": "execute_result"
    }
   ],
   "source": [
    "model = RandomForestClassifier(max_depth=10)\n",
    "model.fit(X_train, y_train)"
   ]
  },
  {
   "cell_type": "code",
   "execution_count": 88,
   "id": "a83ae5e3-ea9c-416d-9051-6fcf6c1c6e36",
   "metadata": {},
   "outputs": [
    {
     "data": {
      "text/plain": [
       "token        5824.0\n",
       "prev_info       0.0\n",
       "hist_1       1665.0\n",
       "hist_2       1665.0\n",
       "hist_3       1665.0\n",
       "future1      3354.0\n",
       "future2      6055.0\n",
       "future3       130.0\n",
       "Name: 402, dtype: float64"
      ]
     },
     "execution_count": 88,
     "metadata": {},
     "output_type": "execute_result"
    }
   ],
   "source": [
    "X_test.loc[ind]"
   ]
  },
  {
   "cell_type": "code",
   "execution_count": 115,
   "id": "1cdd010a-da3c-4c34-a1f0-34684be3326f",
   "metadata": {},
   "outputs": [
    {
     "data": {
      "text/html": [
       "<div>\n",
       "<style scoped>\n",
       "    .dataframe tbody tr th:only-of-type {\n",
       "        vertical-align: middle;\n",
       "    }\n",
       "\n",
       "    .dataframe tbody tr th {\n",
       "        vertical-align: top;\n",
       "    }\n",
       "\n",
       "    .dataframe thead th {\n",
       "        text-align: right;\n",
       "    }\n",
       "</style>\n",
       "<table border=\"1\" class=\"dataframe\">\n",
       "  <thead>\n",
       "    <tr style=\"text-align: right;\">\n",
       "      <th></th>\n",
       "      <th>token</th>\n",
       "      <th>prev_info</th>\n",
       "      <th>hist_1</th>\n",
       "      <th>hist_2</th>\n",
       "      <th>hist_3</th>\n",
       "      <th>future1</th>\n",
       "      <th>future2</th>\n",
       "      <th>future3</th>\n",
       "    </tr>\n",
       "  </thead>\n",
       "  <tbody>\n",
       "    <tr>\n",
       "      <th>0</th>\n",
       "      <td>2563.0</td>\n",
       "      <td>1.0</td>\n",
       "      <td>74.0</td>\n",
       "      <td>5583.0</td>\n",
       "      <td>52.0</td>\n",
       "      <td>52.0</td>\n",
       "      <td>2737.0</td>\n",
       "      <td>257.0</td>\n",
       "    </tr>\n",
       "    <tr>\n",
       "      <th>1</th>\n",
       "      <td>52.0</td>\n",
       "      <td>1.0</td>\n",
       "      <td>2563.0</td>\n",
       "      <td>74.0</td>\n",
       "      <td>5583.0</td>\n",
       "      <td>2737.0</td>\n",
       "      <td>257.0</td>\n",
       "      <td>52.0</td>\n",
       "    </tr>\n",
       "    <tr>\n",
       "      <th>2</th>\n",
       "      <td>2737.0</td>\n",
       "      <td>1.0</td>\n",
       "      <td>52.0</td>\n",
       "      <td>2563.0</td>\n",
       "      <td>74.0</td>\n",
       "      <td>257.0</td>\n",
       "      <td>52.0</td>\n",
       "      <td>3376.0</td>\n",
       "    </tr>\n",
       "    <tr>\n",
       "      <th>3</th>\n",
       "      <td>257.0</td>\n",
       "      <td>1.0</td>\n",
       "      <td>2737.0</td>\n",
       "      <td>52.0</td>\n",
       "      <td>2563.0</td>\n",
       "      <td>52.0</td>\n",
       "      <td>3376.0</td>\n",
       "      <td>74.0</td>\n",
       "    </tr>\n",
       "    <tr>\n",
       "      <th>4</th>\n",
       "      <td>52.0</td>\n",
       "      <td>1.0</td>\n",
       "      <td>257.0</td>\n",
       "      <td>2737.0</td>\n",
       "      <td>52.0</td>\n",
       "      <td>3376.0</td>\n",
       "      <td>74.0</td>\n",
       "      <td>642.0</td>\n",
       "    </tr>\n",
       "    <tr>\n",
       "      <th>...</th>\n",
       "      <td>...</td>\n",
       "      <td>...</td>\n",
       "      <td>...</td>\n",
       "      <td>...</td>\n",
       "      <td>...</td>\n",
       "      <td>...</td>\n",
       "      <td>...</td>\n",
       "      <td>...</td>\n",
       "    </tr>\n",
       "    <tr>\n",
       "      <th>19481</th>\n",
       "      <td>38.0</td>\n",
       "      <td>1.0</td>\n",
       "      <td>2925.0</td>\n",
       "      <td>65.0</td>\n",
       "      <td>5396.0</td>\n",
       "      <td>3013.0</td>\n",
       "      <td>4144.0</td>\n",
       "      <td>5745.0</td>\n",
       "    </tr>\n",
       "    <tr>\n",
       "      <th>19482</th>\n",
       "      <td>3013.0</td>\n",
       "      <td>1.0</td>\n",
       "      <td>38.0</td>\n",
       "      <td>2925.0</td>\n",
       "      <td>65.0</td>\n",
       "      <td>4144.0</td>\n",
       "      <td>5745.0</td>\n",
       "      <td>4328.0</td>\n",
       "    </tr>\n",
       "    <tr>\n",
       "      <th>19483</th>\n",
       "      <td>4144.0</td>\n",
       "      <td>1.0</td>\n",
       "      <td>3013.0</td>\n",
       "      <td>38.0</td>\n",
       "      <td>2925.0</td>\n",
       "      <td>5745.0</td>\n",
       "      <td>4328.0</td>\n",
       "      <td>1663.0</td>\n",
       "    </tr>\n",
       "    <tr>\n",
       "      <th>19484</th>\n",
       "      <td>5745.0</td>\n",
       "      <td>1.0</td>\n",
       "      <td>4144.0</td>\n",
       "      <td>3013.0</td>\n",
       "      <td>38.0</td>\n",
       "      <td>4328.0</td>\n",
       "      <td>1663.0</td>\n",
       "      <td>1663.0</td>\n",
       "    </tr>\n",
       "    <tr>\n",
       "      <th>19485</th>\n",
       "      <td>4328.0</td>\n",
       "      <td>1.0</td>\n",
       "      <td>5745.0</td>\n",
       "      <td>4144.0</td>\n",
       "      <td>3013.0</td>\n",
       "      <td>1663.0</td>\n",
       "      <td>1663.0</td>\n",
       "      <td>1663.0</td>\n",
       "    </tr>\n",
       "  </tbody>\n",
       "</table>\n",
       "<p>19486 rows × 8 columns</p>\n",
       "</div>"
      ],
      "text/plain": [
       "        token  prev_info  hist_1  hist_2  hist_3  future1  future2  future3\n",
       "0      2563.0        1.0    74.0  5583.0    52.0     52.0   2737.0    257.0\n",
       "1        52.0        1.0  2563.0    74.0  5583.0   2737.0    257.0     52.0\n",
       "2      2737.0        1.0    52.0  2563.0    74.0    257.0     52.0   3376.0\n",
       "3       257.0        1.0  2737.0    52.0  2563.0     52.0   3376.0     74.0\n",
       "4        52.0        1.0   257.0  2737.0    52.0   3376.0     74.0    642.0\n",
       "...       ...        ...     ...     ...     ...      ...      ...      ...\n",
       "19481    38.0        1.0  2925.0    65.0  5396.0   3013.0   4144.0   5745.0\n",
       "19482  3013.0        1.0    38.0  2925.0    65.0   4144.0   5745.0   4328.0\n",
       "19483  4144.0        1.0  3013.0    38.0  2925.0   5745.0   4328.0   1663.0\n",
       "19484  5745.0        1.0  4144.0  3013.0    38.0   4328.0   1663.0   1663.0\n",
       "19485  4328.0        1.0  5745.0  4144.0  3013.0   1663.0   1663.0   1663.0\n",
       "\n",
       "[19486 rows x 8 columns]"
      ]
     },
     "execution_count": 115,
     "metadata": {},
     "output_type": "execute_result"
    }
   ],
   "source": []
  },
  {
   "cell_type": "code",
   "execution_count": 119,
   "id": "9446b057-21fc-4572-8dce-7548c6c56f12",
   "metadata": {},
   "outputs": [],
   "source": [
    "X_test = X_test[:-1]\n",
    "X_test.loc[:, 'prev_info'] = 0.0\n",
    "X_test = X_test.reset_index(drop=True)\n",
    "\n",
    "y_pred = []\n",
    "for ind in X_test.index:\n",
    "    pred = model.predict(X_test.loc[[ind]])[0]\n",
    "    y_pred.append(pred)\n",
    "    \n",
    "    X_test.loc[ind+1, 'prev_info'] = pred"
   ]
  },
  {
   "cell_type": "code",
   "execution_count": 109,
   "id": "b76a4eaa-53fe-452e-8513-b5299e71fde8",
   "metadata": {},
   "outputs": [
    {
     "data": {
      "text/plain": [
       "19485"
      ]
     },
     "execution_count": 109,
     "metadata": {},
     "output_type": "execute_result"
    }
   ],
   "source": [
    "ind"
   ]
  },
  {
   "cell_type": "code",
   "execution_count": 103,
   "id": "52a9831f-7088-4c57-929c-1f359b51380a",
   "metadata": {},
   "outputs": [
    {
     "name": "stdout",
     "output_type": "stream",
     "text": [
      "              precision    recall  f1-score   support\n",
      "\n",
      "           0       0.98      1.00      0.99     12906\n",
      "           1       1.00      0.96      0.98      6580\n",
      "\n",
      "    accuracy                           0.99     19486\n",
      "   macro avg       0.99      0.98      0.99     19486\n",
      "weighted avg       0.99      0.99      0.99     19486\n",
      "\n"
     ]
    }
   ],
   "source": [
    "from sklearn.metrics import classification_report\n",
    "\n",
    "y_pred = model.predict(X_test)\n",
    "\n",
    "print(classification_report(y_test, y_pred))"
   ]
  },
  {
   "cell_type": "code",
   "execution_count": 111,
   "id": "89548417-c1f1-4024-8452-ed2676061970",
   "metadata": {},
   "outputs": [
    {
     "data": {
      "text/plain": [
       "55    1\n",
       "56    1\n",
       "57    1\n",
       "58    1\n",
       "59    1\n",
       "     ..\n",
       "95    0\n",
       "96    0\n",
       "97    0\n",
       "98    0\n",
       "99    0\n",
       "Name: is_address, Length: 19486, dtype: int64"
      ]
     },
     "execution_count": 111,
     "metadata": {},
     "output_type": "execute_result"
    }
   ],
   "source": [
    "y_test"
   ]
  },
  {
   "cell_type": "code",
   "execution_count": 130,
   "id": "241fbf17-fdb9-4ac6-8a0d-085604ebf121",
   "metadata": {},
   "outputs": [
    {
     "name": "stdout",
     "output_type": "stream",
     "text": [
      "              precision    recall  f1-score   support\n",
      "\n",
      "           0       0.70      0.01      0.01     12906\n",
      "           1       0.34      1.00      0.50      6580\n",
      "\n",
      "    accuracy                           0.34     19486\n",
      "   macro avg       0.52      0.50      0.26     19486\n",
      "weighted avg       0.58      0.34      0.18     19486\n",
      "\n"
     ]
    }
   ],
   "source": [
    "from sklearn.metrics import classification_report\n",
    "\n",
    "# y_pred = model.predict(X_test)\n",
    "\n",
    "print(classification_report(y_test, y_pred))"
   ]
  },
  {
   "cell_type": "code",
   "execution_count": null,
   "id": "1de92c40-e477-444b-93f4-02110aed4ee7",
   "metadata": {},
   "outputs": [],
   "source": []
  },
  {
   "cell_type": "code",
   "execution_count": null,
   "id": "0240c61b-5369-4789-a40e-0db59d5ff3c0",
   "metadata": {},
   "outputs": [],
   "source": []
  },
  {
   "cell_type": "code",
   "execution_count": 123,
   "id": "0a94e252-4075-4b78-b935-f75561eaf7ae",
   "metadata": {},
   "outputs": [
    {
     "data": {
      "text/html": [
       "<div>\n",
       "<style scoped>\n",
       "    .dataframe tbody tr th:only-of-type {\n",
       "        vertical-align: middle;\n",
       "    }\n",
       "\n",
       "    .dataframe tbody tr th {\n",
       "        vertical-align: top;\n",
       "    }\n",
       "\n",
       "    .dataframe thead th {\n",
       "        text-align: right;\n",
       "    }\n",
       "</style>\n",
       "<table border=\"1\" class=\"dataframe\">\n",
       "  <thead>\n",
       "    <tr style=\"text-align: right;\">\n",
       "      <th></th>\n",
       "      <th>formalname</th>\n",
       "    </tr>\n",
       "  </thead>\n",
       "  <tbody>\n",
       "    <tr>\n",
       "      <th>0</th>\n",
       "      <td>москва</td>\n",
       "    </tr>\n",
       "    <tr>\n",
       "      <th>1</th>\n",
       "      <td>новофедоровское</td>\n",
       "    </tr>\n",
       "    <tr>\n",
       "      <th>2</th>\n",
       "      <td>первомайское</td>\n",
       "    </tr>\n",
       "    <tr>\n",
       "      <th>3</th>\n",
       "      <td>филимонковское</td>\n",
       "    </tr>\n",
       "    <tr>\n",
       "      <th>4</th>\n",
       "      <td>киевский</td>\n",
       "    </tr>\n",
       "  </tbody>\n",
       "</table>\n",
       "</div>"
      ],
      "text/plain": [
       "        formalname\n",
       "0           москва\n",
       "1  новофедоровское\n",
       "2     первомайское\n",
       "3   филимонковское\n",
       "4         киевский"
      ]
     },
     "execution_count": 123,
     "metadata": {},
     "output_type": "execute_result"
    }
   ],
   "source": [
    "streets_df = pd.read_csv('streets_df.csv')\n",
    "streets_df = streets_df[['formalname']]\n",
    "streets_df['formalname'] = streets_df['formalname'].str.lower()\n",
    "streets_df.drop_duplicates(inplace=True)\n",
    "streets_df.head(5)"
   ]
  },
  {
   "cell_type": "code",
   "execution_count": 140,
   "id": "3efb4045-6086-4de2-85dc-c3f99b3803fe",
   "metadata": {},
   "outputs": [
    {
     "data": {
      "text/plain": [
       "(6493, 1)"
      ]
     },
     "execution_count": 140,
     "metadata": {},
     "output_type": "execute_result"
    }
   ],
   "source": [
    "streets_df.shape"
   ]
  },
  {
   "cell_type": "code",
   "execution_count": 141,
   "id": "5b6d49bd-e124-42e1-b301-1057763bedf9",
   "metadata": {},
   "outputs": [],
   "source": [
    "streets_df = streets_df[streets_df['formalname'].str.len() > 3]"
   ]
  },
  {
   "cell_type": "code",
   "execution_count": 146,
   "id": "07a7f624-723d-4f93-9a1e-f080640eb1d9",
   "metadata": {},
   "outputs": [],
   "source": [
    "street_expr = '(' + '|'.join([s.replace('(', '\\(').replace(')', '\\)') for s in streets_df['formalname'].values]) + ')'\n",
    "# street_expr"
   ]
  },
  {
   "cell_type": "code",
   "execution_count": 143,
   "id": "a0c1fb7f-11b0-400c-8f6f-f3c53c366b27",
   "metadata": {},
   "outputs": [
    {
     "name": "stderr",
     "output_type": "stream",
     "text": [
      "<ipython-input-143-8b0046a38129>:1: FutureWarning: The default value of regex will change from True to False in a future version.\n",
      "  new_text_part = data.text_part.str.replace(street_expr, 'STREET')\n"
     ]
    },
    {
     "data": {
      "text/plain": [
       "0       771001001 кпп по октмо гбу \"жилищник района м...\n",
       "1       5147746350230, окато 45283559000 октмо 453670...\n",
       "2      он. статья 15 адреса, реквизиты и подписи стор...\n",
       "3      сударственное бюджетное учреждение гор. москвы...\n",
       "4      остью «дорстройгрупп» (ооо «дорстройгрупп» юри...\n",
       "                             ...                        \n",
       "741    тракту №обю/19-1 локальная смета № (локальный ...\n",
       "742    ткая марка по плотности 70 длина 1000; 2000 мм...\n",
       "743    т 19.06.2017 № 508671, выданной публичным акци...\n",
       "744    и сжатии 300 или 400 400 вид цемента портландц...\n",
       "745    фск партнер а.с. колеснику fild адреса: - юрид...\n",
       "Name: text_part, Length: 746, dtype: object"
      ]
     },
     "execution_count": 143,
     "metadata": {},
     "output_type": "execute_result"
    }
   ],
   "source": [
    "new_text_part = data.text_part.str.replace(street_expr, 'STREET')\n",
    "new_text_part"
   ]
  },
  {
   "cell_type": "code",
   "execution_count": 144,
   "id": "a5bbde12-cf40-4b96-a62f-d3b534dc5b1a",
   "metadata": {},
   "outputs": [
    {
     "data": {
      "text/plain": [
       "(' 771001001 кпп по октмо гбу \"жилищник района митино\" государственные бюджетные учреждения субъектов российской федерации 7733902394 кпп 773301001 по окфс место нахождения (адрес) S 125430, город STREET, STREET шоссе, дом 23 E реквизиты сведений об объекте контроля 45000000 инн по окопф форма собственности № п/п дата протокола по октмо 75203 29368873 45367000000 реквизиты документа, содержащего информацию для осуществления',\n",
       " ' 771001001 кпп по октмо гбу \"жилищник района митино\" государственные бюджетные учреждения субъектов российской федерации 7733902394 кпп 773301001 по окфс место нахождения (адрес) S 125430, город москва, пятницкое шоссе, дом 23 E реквизиты сведений об объекте контроля 45000000 инн по окопф форма собственности № п/п дата протокола по октмо 75203 29368873 45367000000 реквизиты документа, содержащего информацию для осуществления')"
      ]
     },
     "execution_count": 144,
     "metadata": {},
     "output_type": "execute_result"
    }
   ],
   "source": [
    "new_text_part[0], data.text_part[0]"
   ]
  },
  {
   "cell_type": "code",
   "execution_count": 145,
   "id": "22d8f058-6d4d-4374-ae0c-3adbf6001c7a",
   "metadata": {},
   "outputs": [],
   "source": [
    "text_dfs = []\n",
    "for text in new_text_part:\n",
    "    text_dfs.append(prepare_text(text))"
   ]
  },
  {
   "cell_type": "code",
   "execution_count": 147,
   "id": "091dcd47-1876-4e12-a3aa-3326988fc639",
   "metadata": {},
   "outputs": [
    {
     "data": {
      "text/html": [
       "<div>\n",
       "<style scoped>\n",
       "    .dataframe tbody tr th:only-of-type {\n",
       "        vertical-align: middle;\n",
       "    }\n",
       "\n",
       "    .dataframe tbody tr th {\n",
       "        vertical-align: top;\n",
       "    }\n",
       "\n",
       "    .dataframe thead th {\n",
       "        text-align: right;\n",
       "    }\n",
       "</style>\n",
       "<table border=\"1\" class=\"dataframe\">\n",
       "  <thead>\n",
       "    <tr style=\"text-align: right;\">\n",
       "      <th></th>\n",
       "      <th>token</th>\n",
       "      <th>is_address</th>\n",
       "      <th>prev_info</th>\n",
       "      <th>hist_1</th>\n",
       "      <th>hist_2</th>\n",
       "      <th>hist_3</th>\n",
       "      <th>future1</th>\n",
       "      <th>future2</th>\n",
       "      <th>future3</th>\n",
       "    </tr>\n",
       "  </thead>\n",
       "  <tbody>\n",
       "    <tr>\n",
       "      <th>0</th>\n",
       "      <td>771001001</td>\n",
       "      <td>0</td>\n",
       "      <td>0.0</td>\n",
       "      <td>UNKNOWN</td>\n",
       "      <td>UNKNOWN</td>\n",
       "      <td>UNKNOWN</td>\n",
       "      <td>кпп</td>\n",
       "      <td>по</td>\n",
       "      <td>октмо</td>\n",
       "    </tr>\n",
       "    <tr>\n",
       "      <th>1</th>\n",
       "      <td>кпп</td>\n",
       "      <td>0</td>\n",
       "      <td>0.0</td>\n",
       "      <td>771001001</td>\n",
       "      <td>UNKNOWN</td>\n",
       "      <td>UNKNOWN</td>\n",
       "      <td>по</td>\n",
       "      <td>октмо</td>\n",
       "      <td>гбу</td>\n",
       "    </tr>\n",
       "    <tr>\n",
       "      <th>2</th>\n",
       "      <td>по</td>\n",
       "      <td>0</td>\n",
       "      <td>0.0</td>\n",
       "      <td>кпп</td>\n",
       "      <td>771001001</td>\n",
       "      <td>UNKNOWN</td>\n",
       "      <td>октмо</td>\n",
       "      <td>гбу</td>\n",
       "      <td>\"</td>\n",
       "    </tr>\n",
       "    <tr>\n",
       "      <th>3</th>\n",
       "      <td>октмо</td>\n",
       "      <td>0</td>\n",
       "      <td>0.0</td>\n",
       "      <td>по</td>\n",
       "      <td>кпп</td>\n",
       "      <td>771001001</td>\n",
       "      <td>гбу</td>\n",
       "      <td>\"</td>\n",
       "      <td>жилищник</td>\n",
       "    </tr>\n",
       "    <tr>\n",
       "      <th>4</th>\n",
       "      <td>гбу</td>\n",
       "      <td>0</td>\n",
       "      <td>0.0</td>\n",
       "      <td>октмо</td>\n",
       "      <td>по</td>\n",
       "      <td>кпп</td>\n",
       "      <td>\"</td>\n",
       "      <td>жилищник</td>\n",
       "      <td>района</td>\n",
       "    </tr>\n",
       "  </tbody>\n",
       "</table>\n",
       "</div>"
      ],
      "text/plain": [
       "       token  is_address  prev_info     hist_1     hist_2     hist_3 future1  \\\n",
       "0  771001001           0        0.0    UNKNOWN    UNKNOWN    UNKNOWN     кпп   \n",
       "1        кпп           0        0.0  771001001    UNKNOWN    UNKNOWN      по   \n",
       "2         по           0        0.0        кпп  771001001    UNKNOWN   октмо   \n",
       "3      октмо           0        0.0         по        кпп  771001001     гбу   \n",
       "4        гбу           0        0.0      октмо         по        кпп       \"   \n",
       "\n",
       "    future2   future3  \n",
       "0        по     октмо  \n",
       "1     октмо       гбу  \n",
       "2       гбу         \"  \n",
       "3         \"  жилищник  \n",
       "4  жилищник    района  "
      ]
     },
     "execution_count": 147,
     "metadata": {},
     "output_type": "execute_result"
    }
   ],
   "source": [
    "text_dfs = pd.concat(text_dfs)\n",
    "encoder = LabelEncoder()\n",
    "encoder.fit(text_dfs['token'].tolist() + text_dfs['hist_1'].tolist())\n",
    "\n",
    "digit_tdf = text_dfs.copy()\n",
    "\n",
    "wrd_cols = ['token', 'hist_1', 'hist_2', 'hist_3', 'future1', 'future2', 'future3']\n",
    "for wc in wrd_cols:\n",
    "    digit_tdf.loc[:, wc] = encoder.transform(text_dfs[wc])\n",
    "    \n",
    "text_dfs.head(5)"
   ]
  },
  {
   "cell_type": "code",
   "execution_count": 148,
   "id": "955553d1-ec2d-4787-bb0d-ee33181d2dd9",
   "metadata": {},
   "outputs": [
    {
     "data": {
      "text/html": [
       "<div>\n",
       "<style scoped>\n",
       "    .dataframe tbody tr th:only-of-type {\n",
       "        vertical-align: middle;\n",
       "    }\n",
       "\n",
       "    .dataframe tbody tr th {\n",
       "        vertical-align: top;\n",
       "    }\n",
       "\n",
       "    .dataframe thead th {\n",
       "        text-align: right;\n",
       "    }\n",
       "</style>\n",
       "<table border=\"1\" class=\"dataframe\">\n",
       "  <thead>\n",
       "    <tr style=\"text-align: right;\">\n",
       "      <th></th>\n",
       "      <th>token</th>\n",
       "      <th>is_address</th>\n",
       "      <th>prev_info</th>\n",
       "      <th>hist_1</th>\n",
       "      <th>hist_2</th>\n",
       "      <th>hist_3</th>\n",
       "      <th>future1</th>\n",
       "      <th>future2</th>\n",
       "      <th>future3</th>\n",
       "    </tr>\n",
       "  </thead>\n",
       "  <tbody>\n",
       "    <tr>\n",
       "      <th>0</th>\n",
       "      <td>1373</td>\n",
       "      <td>0</td>\n",
       "      <td>0.0</td>\n",
       "      <td>1692</td>\n",
       "      <td>1692</td>\n",
       "      <td>1692</td>\n",
       "      <td>3224</td>\n",
       "      <td>4087</td>\n",
       "      <td>3819</td>\n",
       "    </tr>\n",
       "    <tr>\n",
       "      <th>1</th>\n",
       "      <td>3224</td>\n",
       "      <td>0</td>\n",
       "      <td>0.0</td>\n",
       "      <td>1373</td>\n",
       "      <td>1692</td>\n",
       "      <td>1692</td>\n",
       "      <td>4087</td>\n",
       "      <td>3819</td>\n",
       "      <td>2376</td>\n",
       "    </tr>\n",
       "    <tr>\n",
       "      <th>2</th>\n",
       "      <td>4087</td>\n",
       "      <td>0</td>\n",
       "      <td>0.0</td>\n",
       "      <td>3224</td>\n",
       "      <td>1373</td>\n",
       "      <td>1692</td>\n",
       "      <td>3819</td>\n",
       "      <td>2376</td>\n",
       "      <td>3</td>\n",
       "    </tr>\n",
       "    <tr>\n",
       "      <th>3</th>\n",
       "      <td>3819</td>\n",
       "      <td>0</td>\n",
       "      <td>0.0</td>\n",
       "      <td>4087</td>\n",
       "      <td>3224</td>\n",
       "      <td>1373</td>\n",
       "      <td>2376</td>\n",
       "      <td>3</td>\n",
       "      <td>2771</td>\n",
       "    </tr>\n",
       "    <tr>\n",
       "      <th>4</th>\n",
       "      <td>2376</td>\n",
       "      <td>0</td>\n",
       "      <td>0.0</td>\n",
       "      <td>3819</td>\n",
       "      <td>4087</td>\n",
       "      <td>3224</td>\n",
       "      <td>3</td>\n",
       "      <td>2771</td>\n",
       "      <td>4438</td>\n",
       "    </tr>\n",
       "    <tr>\n",
       "      <th>...</th>\n",
       "      <td>...</td>\n",
       "      <td>...</td>\n",
       "      <td>...</td>\n",
       "      <td>...</td>\n",
       "      <td>...</td>\n",
       "      <td>...</td>\n",
       "      <td>...</td>\n",
       "      <td>...</td>\n",
       "      <td>...</td>\n",
       "    </tr>\n",
       "    <tr>\n",
       "      <th>92</th>\n",
       "      <td>38</td>\n",
       "      <td>0</td>\n",
       "      <td>0.0</td>\n",
       "      <td>2804</td>\n",
       "      <td>65</td>\n",
       "      <td>4941</td>\n",
       "      <td>2877</td>\n",
       "      <td>3839</td>\n",
       "      <td>5260</td>\n",
       "    </tr>\n",
       "    <tr>\n",
       "      <th>93</th>\n",
       "      <td>2877</td>\n",
       "      <td>0</td>\n",
       "      <td>0.0</td>\n",
       "      <td>38</td>\n",
       "      <td>2804</td>\n",
       "      <td>65</td>\n",
       "      <td>3839</td>\n",
       "      <td>5260</td>\n",
       "      <td>4007</td>\n",
       "    </tr>\n",
       "    <tr>\n",
       "      <th>94</th>\n",
       "      <td>3839</td>\n",
       "      <td>0</td>\n",
       "      <td>0.0</td>\n",
       "      <td>2877</td>\n",
       "      <td>38</td>\n",
       "      <td>2804</td>\n",
       "      <td>5260</td>\n",
       "      <td>4007</td>\n",
       "      <td>1692</td>\n",
       "    </tr>\n",
       "    <tr>\n",
       "      <th>95</th>\n",
       "      <td>5260</td>\n",
       "      <td>0</td>\n",
       "      <td>0.0</td>\n",
       "      <td>3839</td>\n",
       "      <td>2877</td>\n",
       "      <td>38</td>\n",
       "      <td>4007</td>\n",
       "      <td>1692</td>\n",
       "      <td>1692</td>\n",
       "    </tr>\n",
       "    <tr>\n",
       "      <th>96</th>\n",
       "      <td>4007</td>\n",
       "      <td>0</td>\n",
       "      <td>0.0</td>\n",
       "      <td>5260</td>\n",
       "      <td>3839</td>\n",
       "      <td>2877</td>\n",
       "      <td>1692</td>\n",
       "      <td>1692</td>\n",
       "      <td>1692</td>\n",
       "    </tr>\n",
       "  </tbody>\n",
       "</table>\n",
       "<p>73866 rows × 9 columns</p>\n",
       "</div>"
      ],
      "text/plain": [
       "    token  is_address  prev_info  hist_1  hist_2  hist_3  future1  future2  \\\n",
       "0    1373           0        0.0    1692    1692    1692     3224     4087   \n",
       "1    3224           0        0.0    1373    1692    1692     4087     3819   \n",
       "2    4087           0        0.0    3224    1373    1692     3819     2376   \n",
       "3    3819           0        0.0    4087    3224    1373     2376        3   \n",
       "4    2376           0        0.0    3819    4087    3224        3     2771   \n",
       "..    ...         ...        ...     ...     ...     ...      ...      ...   \n",
       "92     38           0        0.0    2804      65    4941     2877     3839   \n",
       "93   2877           0        0.0      38    2804      65     3839     5260   \n",
       "94   3839           0        0.0    2877      38    2804     5260     4007   \n",
       "95   5260           0        0.0    3839    2877      38     4007     1692   \n",
       "96   4007           0        0.0    5260    3839    2877     1692     1692   \n",
       "\n",
       "    future3  \n",
       "0      3819  \n",
       "1      2376  \n",
       "2         3  \n",
       "3      2771  \n",
       "4      4438  \n",
       "..      ...  \n",
       "92     5260  \n",
       "93     4007  \n",
       "94     1692  \n",
       "95     1692  \n",
       "96     1692  \n",
       "\n",
       "[73866 rows x 9 columns]"
      ]
     },
     "execution_count": 148,
     "metadata": {},
     "output_type": "execute_result"
    }
   ],
   "source": [
    "digit_tdf"
   ]
  },
  {
   "cell_type": "code",
   "execution_count": 149,
   "id": "e3a566c0-dc89-43f6-a006-2ae153967587",
   "metadata": {},
   "outputs": [
    {
     "data": {
      "text/plain": [
       "RandomForestClassifier(max_depth=10)"
      ]
     },
     "execution_count": 149,
     "metadata": {},
     "output_type": "execute_result"
    }
   ],
   "source": [
    "X_train = X[:55000]\n",
    "y_train = y[:55000]\n",
    "\n",
    "X_test = X[55000:]\n",
    "y_test = y[55000:]\n",
    "\n",
    "model = RandomForestClassifier(max_depth=10)\n",
    "model.fit(X_train, y_train)"
   ]
  },
  {
   "cell_type": "code",
   "execution_count": 151,
   "id": "ee08d64a-ba4a-4ca6-a8dd-45f5f4b9b486",
   "metadata": {},
   "outputs": [
    {
     "name": "stderr",
     "output_type": "stream",
     "text": [
      "/Users/arthursaprykin/opt/anaconda3/lib/python3.8/site-packages/pandas/core/indexing.py:1720: SettingWithCopyWarning: \n",
      "A value is trying to be set on a copy of a slice from a DataFrame.\n",
      "Try using .loc[row_indexer,col_indexer] = value instead\n",
      "\n",
      "See the caveats in the documentation: https://pandas.pydata.org/pandas-docs/stable/user_guide/indexing.html#returning-a-view-versus-a-copy\n",
      "  self._setitem_single_column(loc, value, pi)\n"
     ]
    }
   ],
   "source": [
    "X_test.loc[:, 'prev_info'] = 0.0\n",
    "X_test = X_test.reset_index(drop=True)\n",
    "\n",
    "y_pred = []\n",
    "for ind in X_test.index:\n",
    "    pred = model.predict(X_test.loc[[ind]])[0]\n",
    "    y_pred.append(pred)\n",
    "    \n",
    "    X_test.loc[ind+1, 'prev_info'] = pred"
   ]
  },
  {
   "cell_type": "code",
   "execution_count": 152,
   "id": "51371be7-b2b0-4b93-815a-eddf0f195344",
   "metadata": {},
   "outputs": [
    {
     "name": "stdout",
     "output_type": "stream",
     "text": [
      "              precision    recall  f1-score   support\n",
      "\n",
      "           0       0.70      0.01      0.01     12906\n",
      "           1       0.34      1.00      0.50      6580\n",
      "\n",
      "    accuracy                           0.34     19486\n",
      "   macro avg       0.52      0.50      0.26     19486\n",
      "weighted avg       0.58      0.34      0.18     19486\n",
      "\n"
     ]
    }
   ],
   "source": [
    "print(classification_report(y_test, y_pred))"
   ]
  }
 ],
 "metadata": {
  "kernelspec": {
   "display_name": "Python 3",
   "language": "python",
   "name": "python3"
  },
  "language_info": {
   "codemirror_mode": {
    "name": "ipython",
    "version": 3
   },
   "file_extension": ".py",
   "mimetype": "text/x-python",
   "name": "python",
   "nbconvert_exporter": "python",
   "pygments_lexer": "ipython3",
   "version": "3.8.8"
  }
 },
 "nbformat": 4,
 "nbformat_minor": 5
}
